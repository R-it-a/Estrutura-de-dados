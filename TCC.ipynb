{
  "cells": [
    {
      "cell_type": "markdown",
      "metadata": {
        "id": "view-in-github",
        "colab_type": "text"
      },
      "source": [
        "<a href=\"https://colab.research.google.com/github/R-it-a/Estrutura-de-dados/blob/main/TCC.ipynb\" target=\"_parent\"><img src=\"https://colab.research.google.com/assets/colab-badge.svg\" alt=\"Open In Colab\"/></a>"
      ]
    },
    {
      "cell_type": "code",
      "execution_count": null,
      "metadata": {
        "colab": {
          "base_uri": "https://localhost:8080/"
        },
        "id": "kro2UkpsFDBX",
        "outputId": "e1320e77-8f42-474f-abf4-5a6e90d4f40c"
      },
      "outputs": [
        {
          "output_type": "stream",
          "name": "stdout",
          "text": [
            "Drive already mounted at /content/drive; to attempt to forcibly remount, call drive.mount(\"/content/drive\", force_remount=True).\n",
            "Looking in indexes: https://pypi.org/simple, https://us-python.pkg.dev/colab-wheels/public/simple/\n",
            "Collecting swifter\n",
            "  Downloading swifter-1.3.4.tar.gz (830 kB)\n",
            "\u001b[2K     \u001b[90m━━━━━━━━━━━━━━━━━━━━━━━━━━━━━━━━━━━━━━\u001b[0m \u001b[32m830.9/830.9 kB\u001b[0m \u001b[31m12.6 MB/s\u001b[0m eta \u001b[36m0:00:00\u001b[0m\n",
            "\u001b[?25h  Preparing metadata (setup.py) ... \u001b[?25l\u001b[?25hdone\n",
            "Requirement already satisfied: pandas>=1.0.0 in /usr/local/lib/python3.9/dist-packages (from swifter) (1.5.3)\n",
            "Requirement already satisfied: psutil>=5.6.6 in /usr/local/lib/python3.9/dist-packages (from swifter) (5.9.5)\n",
            "Requirement already satisfied: dask[dataframe]>=2.10.0 in /usr/local/lib/python3.9/dist-packages (from swifter) (2022.12.1)\n",
            "Requirement already satisfied: tqdm>=4.33.0 in /usr/local/lib/python3.9/dist-packages (from swifter) (4.65.0)\n",
            "Requirement already satisfied: ipywidgets>=7.0.0 in /usr/local/lib/python3.9/dist-packages (from swifter) (7.7.1)\n",
            "Requirement already satisfied: cloudpickle>=0.2.2 in /usr/local/lib/python3.9/dist-packages (from swifter) (2.2.1)\n",
            "Requirement already satisfied: parso>0.4.0 in /usr/local/lib/python3.9/dist-packages (from swifter) (0.8.3)\n",
            "Requirement already satisfied: bleach>=3.1.1 in /usr/local/lib/python3.9/dist-packages (from swifter) (6.0.0)\n",
            "Requirement already satisfied: webencodings in /usr/local/lib/python3.9/dist-packages (from bleach>=3.1.1->swifter) (0.5.1)\n",
            "Requirement already satisfied: six>=1.9.0 in /usr/local/lib/python3.9/dist-packages (from bleach>=3.1.1->swifter) (1.16.0)\n",
            "Requirement already satisfied: packaging>=20.0 in /usr/local/lib/python3.9/dist-packages (from dask[dataframe]>=2.10.0->swifter) (23.1)\n",
            "Requirement already satisfied: pyyaml>=5.3.1 in /usr/local/lib/python3.9/dist-packages (from dask[dataframe]>=2.10.0->swifter) (6.0)\n",
            "Requirement already satisfied: click>=7.0 in /usr/local/lib/python3.9/dist-packages (from dask[dataframe]>=2.10.0->swifter) (8.1.3)\n",
            "Requirement already satisfied: toolz>=0.8.2 in /usr/local/lib/python3.9/dist-packages (from dask[dataframe]>=2.10.0->swifter) (0.12.0)\n",
            "Requirement already satisfied: partd>=0.3.10 in /usr/local/lib/python3.9/dist-packages (from dask[dataframe]>=2.10.0->swifter) (1.4.0)\n",
            "Requirement already satisfied: fsspec>=0.6.0 in /usr/local/lib/python3.9/dist-packages (from dask[dataframe]>=2.10.0->swifter) (2023.4.0)\n",
            "Requirement already satisfied: numpy>=1.18 in /usr/local/lib/python3.9/dist-packages (from dask[dataframe]>=2.10.0->swifter) (1.22.4)\n",
            "Requirement already satisfied: jupyterlab-widgets>=1.0.0 in /usr/local/lib/python3.9/dist-packages (from ipywidgets>=7.0.0->swifter) (3.0.7)\n",
            "Requirement already satisfied: traitlets>=4.3.1 in /usr/local/lib/python3.9/dist-packages (from ipywidgets>=7.0.0->swifter) (5.7.1)\n",
            "Requirement already satisfied: ipython>=4.0.0 in /usr/local/lib/python3.9/dist-packages (from ipywidgets>=7.0.0->swifter) (7.34.0)\n",
            "Requirement already satisfied: widgetsnbextension~=3.6.0 in /usr/local/lib/python3.9/dist-packages (from ipywidgets>=7.0.0->swifter) (3.6.4)\n",
            "Requirement already satisfied: ipython-genutils~=0.2.0 in /usr/local/lib/python3.9/dist-packages (from ipywidgets>=7.0.0->swifter) (0.2.0)\n",
            "Requirement already satisfied: ipykernel>=4.5.1 in /usr/local/lib/python3.9/dist-packages (from ipywidgets>=7.0.0->swifter) (5.5.6)\n",
            "Requirement already satisfied: python-dateutil>=2.8.1 in /usr/local/lib/python3.9/dist-packages (from pandas>=1.0.0->swifter) (2.8.2)\n",
            "Requirement already satisfied: pytz>=2020.1 in /usr/local/lib/python3.9/dist-packages (from pandas>=1.0.0->swifter) (2022.7.1)\n",
            "Requirement already satisfied: jupyter-client in /usr/local/lib/python3.9/dist-packages (from ipykernel>=4.5.1->ipywidgets>=7.0.0->swifter) (6.1.12)\n",
            "Requirement already satisfied: tornado>=4.2 in /usr/local/lib/python3.9/dist-packages (from ipykernel>=4.5.1->ipywidgets>=7.0.0->swifter) (6.2)\n",
            "Requirement already satisfied: pickleshare in /usr/local/lib/python3.9/dist-packages (from ipython>=4.0.0->ipywidgets>=7.0.0->swifter) (0.7.5)\n",
            "Requirement already satisfied: backcall in /usr/local/lib/python3.9/dist-packages (from ipython>=4.0.0->ipywidgets>=7.0.0->swifter) (0.2.0)\n",
            "Requirement already satisfied: decorator in /usr/local/lib/python3.9/dist-packages (from ipython>=4.0.0->ipywidgets>=7.0.0->swifter) (4.4.2)\n",
            "Requirement already satisfied: prompt-toolkit!=3.0.0,!=3.0.1,<3.1.0,>=2.0.0 in /usr/local/lib/python3.9/dist-packages (from ipython>=4.0.0->ipywidgets>=7.0.0->swifter) (3.0.38)\n",
            "Requirement already satisfied: pexpect>4.3 in /usr/local/lib/python3.9/dist-packages (from ipython>=4.0.0->ipywidgets>=7.0.0->swifter) (4.8.0)\n",
            "Collecting jedi>=0.16\n",
            "  Downloading jedi-0.18.2-py2.py3-none-any.whl (1.6 MB)\n",
            "\u001b[2K     \u001b[90m━━━━━━━━━━━━━━━━━━━━━━━━━━━━━━━━━━━━━━━━\u001b[0m \u001b[32m1.6/1.6 MB\u001b[0m \u001b[31m52.3 MB/s\u001b[0m eta \u001b[36m0:00:00\u001b[0m\n",
            "\u001b[?25hRequirement already satisfied: matplotlib-inline in /usr/local/lib/python3.9/dist-packages (from ipython>=4.0.0->ipywidgets>=7.0.0->swifter) (0.1.6)\n",
            "Requirement already satisfied: pygments in /usr/local/lib/python3.9/dist-packages (from ipython>=4.0.0->ipywidgets>=7.0.0->swifter) (2.14.0)\n",
            "Requirement already satisfied: setuptools>=18.5 in /usr/local/lib/python3.9/dist-packages (from ipython>=4.0.0->ipywidgets>=7.0.0->swifter) (67.6.1)\n",
            "Requirement already satisfied: locket in /usr/local/lib/python3.9/dist-packages (from partd>=0.3.10->dask[dataframe]>=2.10.0->swifter) (1.0.0)\n",
            "Requirement already satisfied: notebook>=4.4.1 in /usr/local/lib/python3.9/dist-packages (from widgetsnbextension~=3.6.0->ipywidgets>=7.0.0->swifter) (6.4.8)\n",
            "Requirement already satisfied: nbformat in /usr/local/lib/python3.9/dist-packages (from notebook>=4.4.1->widgetsnbextension~=3.6.0->ipywidgets>=7.0.0->swifter) (5.8.0)\n",
            "Requirement already satisfied: jinja2 in /usr/local/lib/python3.9/dist-packages (from notebook>=4.4.1->widgetsnbextension~=3.6.0->ipywidgets>=7.0.0->swifter) (3.1.2)\n",
            "Requirement already satisfied: nest-asyncio>=1.5 in /usr/local/lib/python3.9/dist-packages (from notebook>=4.4.1->widgetsnbextension~=3.6.0->ipywidgets>=7.0.0->swifter) (1.5.6)\n",
            "Requirement already satisfied: Send2Trash>=1.8.0 in /usr/local/lib/python3.9/dist-packages (from notebook>=4.4.1->widgetsnbextension~=3.6.0->ipywidgets>=7.0.0->swifter) (1.8.0)\n",
            "Requirement already satisfied: terminado>=0.8.3 in /usr/local/lib/python3.9/dist-packages (from notebook>=4.4.1->widgetsnbextension~=3.6.0->ipywidgets>=7.0.0->swifter) (0.17.1)\n",
            "Requirement already satisfied: pyzmq>=17 in /usr/local/lib/python3.9/dist-packages (from notebook>=4.4.1->widgetsnbextension~=3.6.0->ipywidgets>=7.0.0->swifter) (23.2.1)\n",
            "Requirement already satisfied: prometheus-client in /usr/local/lib/python3.9/dist-packages (from notebook>=4.4.1->widgetsnbextension~=3.6.0->ipywidgets>=7.0.0->swifter) (0.16.0)\n",
            "Requirement already satisfied: jupyter-core>=4.6.1 in /usr/local/lib/python3.9/dist-packages (from notebook>=4.4.1->widgetsnbextension~=3.6.0->ipywidgets>=7.0.0->swifter) (5.3.0)\n",
            "Requirement already satisfied: argon2-cffi in /usr/local/lib/python3.9/dist-packages (from notebook>=4.4.1->widgetsnbextension~=3.6.0->ipywidgets>=7.0.0->swifter) (21.3.0)\n",
            "Requirement already satisfied: nbconvert in /usr/local/lib/python3.9/dist-packages (from notebook>=4.4.1->widgetsnbextension~=3.6.0->ipywidgets>=7.0.0->swifter) (6.5.4)\n",
            "Requirement already satisfied: ptyprocess>=0.5 in /usr/local/lib/python3.9/dist-packages (from pexpect>4.3->ipython>=4.0.0->ipywidgets>=7.0.0->swifter) (0.7.0)\n",
            "Requirement already satisfied: wcwidth in /usr/local/lib/python3.9/dist-packages (from prompt-toolkit!=3.0.0,!=3.0.1,<3.1.0,>=2.0.0->ipython>=4.0.0->ipywidgets>=7.0.0->swifter) (0.2.6)\n",
            "Requirement already satisfied: platformdirs>=2.5 in /usr/local/lib/python3.9/dist-packages (from jupyter-core>=4.6.1->notebook>=4.4.1->widgetsnbextension~=3.6.0->ipywidgets>=7.0.0->swifter) (3.2.0)\n",
            "Requirement already satisfied: argon2-cffi-bindings in /usr/local/lib/python3.9/dist-packages (from argon2-cffi->notebook>=4.4.1->widgetsnbextension~=3.6.0->ipywidgets>=7.0.0->swifter) (21.2.0)\n",
            "Requirement already satisfied: MarkupSafe>=2.0 in /usr/local/lib/python3.9/dist-packages (from jinja2->notebook>=4.4.1->widgetsnbextension~=3.6.0->ipywidgets>=7.0.0->swifter) (2.1.2)\n",
            "Requirement already satisfied: defusedxml in /usr/local/lib/python3.9/dist-packages (from nbconvert->notebook>=4.4.1->widgetsnbextension~=3.6.0->ipywidgets>=7.0.0->swifter) (0.7.1)\n",
            "Requirement already satisfied: mistune<2,>=0.8.1 in /usr/local/lib/python3.9/dist-packages (from nbconvert->notebook>=4.4.1->widgetsnbextension~=3.6.0->ipywidgets>=7.0.0->swifter) (0.8.4)\n",
            "Requirement already satisfied: tinycss2 in /usr/local/lib/python3.9/dist-packages (from nbconvert->notebook>=4.4.1->widgetsnbextension~=3.6.0->ipywidgets>=7.0.0->swifter) (1.2.1)\n",
            "Requirement already satisfied: beautifulsoup4 in /usr/local/lib/python3.9/dist-packages (from nbconvert->notebook>=4.4.1->widgetsnbextension~=3.6.0->ipywidgets>=7.0.0->swifter) (4.11.2)\n",
            "Requirement already satisfied: entrypoints>=0.2.2 in /usr/local/lib/python3.9/dist-packages (from nbconvert->notebook>=4.4.1->widgetsnbextension~=3.6.0->ipywidgets>=7.0.0->swifter) (0.4)\n",
            "Requirement already satisfied: lxml in /usr/local/lib/python3.9/dist-packages (from nbconvert->notebook>=4.4.1->widgetsnbextension~=3.6.0->ipywidgets>=7.0.0->swifter) (4.9.2)\n",
            "Requirement already satisfied: nbclient>=0.5.0 in /usr/local/lib/python3.9/dist-packages (from nbconvert->notebook>=4.4.1->widgetsnbextension~=3.6.0->ipywidgets>=7.0.0->swifter) (0.7.3)\n",
            "Requirement already satisfied: pandocfilters>=1.4.1 in /usr/local/lib/python3.9/dist-packages (from nbconvert->notebook>=4.4.1->widgetsnbextension~=3.6.0->ipywidgets>=7.0.0->swifter) (1.5.0)\n",
            "Requirement already satisfied: jupyterlab-pygments in /usr/local/lib/python3.9/dist-packages (from nbconvert->notebook>=4.4.1->widgetsnbextension~=3.6.0->ipywidgets>=7.0.0->swifter) (0.2.2)\n",
            "Requirement already satisfied: fastjsonschema in /usr/local/lib/python3.9/dist-packages (from nbformat->notebook>=4.4.1->widgetsnbextension~=3.6.0->ipywidgets>=7.0.0->swifter) (2.16.3)\n",
            "Requirement already satisfied: jsonschema>=2.6 in /usr/local/lib/python3.9/dist-packages (from nbformat->notebook>=4.4.1->widgetsnbextension~=3.6.0->ipywidgets>=7.0.0->swifter) (4.3.3)\n",
            "Requirement already satisfied: attrs>=17.4.0 in /usr/local/lib/python3.9/dist-packages (from jsonschema>=2.6->nbformat->notebook>=4.4.1->widgetsnbextension~=3.6.0->ipywidgets>=7.0.0->swifter) (23.1.0)\n",
            "Requirement already satisfied: pyrsistent!=0.17.0,!=0.17.1,!=0.17.2,>=0.14.0 in /usr/local/lib/python3.9/dist-packages (from jsonschema>=2.6->nbformat->notebook>=4.4.1->widgetsnbextension~=3.6.0->ipywidgets>=7.0.0->swifter) (0.19.3)\n",
            "Requirement already satisfied: cffi>=1.0.1 in /usr/local/lib/python3.9/dist-packages (from argon2-cffi-bindings->argon2-cffi->notebook>=4.4.1->widgetsnbextension~=3.6.0->ipywidgets>=7.0.0->swifter) (1.15.1)\n",
            "Requirement already satisfied: soupsieve>1.2 in /usr/local/lib/python3.9/dist-packages (from beautifulsoup4->nbconvert->notebook>=4.4.1->widgetsnbextension~=3.6.0->ipywidgets>=7.0.0->swifter) (2.4.1)\n",
            "Requirement already satisfied: pycparser in /usr/local/lib/python3.9/dist-packages (from cffi>=1.0.1->argon2-cffi-bindings->argon2-cffi->notebook>=4.4.1->widgetsnbextension~=3.6.0->ipywidgets>=7.0.0->swifter) (2.21)\n",
            "Building wheels for collected packages: swifter\n",
            "  Building wheel for swifter (setup.py) ... \u001b[?25l\u001b[?25hdone\n",
            "  Created wheel for swifter: filename=swifter-1.3.4-py3-none-any.whl size=16321 sha256=d4efb7eb4c9679cdc27f57b08a25c819c5684643d3871e3d282aa0b633e8db12\n",
            "  Stored in directory: /root/.cache/pip/wheels/2b/5e/f2/3931524f702ffd03309e96d35ee2fbf9c61c27377511ee8d4c\n",
            "Successfully built swifter\n",
            "Installing collected packages: jedi, swifter\n",
            "Successfully installed jedi-0.18.2 swifter-1.3.4\n"
          ]
        }
      ],
      "source": [
        "\n",
        "from google.colab import drive\n",
        "drive.mount('/content/drive')\n",
        "import numpy as np\n",
        "\n",
        "import pandas as pd\n",
        "!pip install swifter\n",
        "from sklearn.linear_model import LinearRegression\n",
        "from sklearn.utils import shuffle\n"
      ]
    },
    {
      "cell_type": "markdown",
      "metadata": {
        "id": "JzpjmBCXEXuM"
      },
      "source": [
        "# filtragem dos dados"
      ]
    },
    {
      "cell_type": "code",
      "execution_count": null,
      "metadata": {
        "colab": {
          "base_uri": "https://localhost:8080/"
        },
        "id": "UDE_Rw2_RIJi",
        "outputId": "8ca60190-0011-4a89-d716-768328c54ce5"
      },
      "outputs": [
        {
          "output_type": "stream",
          "name": "stderr",
          "text": [
            "<ipython-input-2-22bd40da0e3b>:3: FutureWarning: The error_bad_lines argument has been deprecated and will be removed in a future version. Use on_bad_lines in the future.\n",
            "\n",
            "\n",
            "  educacao = pd.read_csv(\n"
          ]
        }
      ],
      "source": [
        "import pandas as pd\n",
        "\n",
        "educacao = pd.read_csv(\n",
        "    '/content/drive/MyDrive/MICRODADOS_ENEM_2020.csv',\n",
        "    error_bad_lines=False,\n",
        "    sep = \";\",\n",
        "    encoding = 'ISO-8859-1',\n",
        "    usecols=[\"NU_NOTA_MT\", \"NU_NOTA_LC\", \"NU_NOTA_CH\", \"NU_NOTA_CN\", \"TP_SEXO\", \"TP_COR_RACA\"]\n",
        ")\n"
      ]
    },
    {
      "cell_type": "markdown",
      "metadata": {
        "id": "phfOuuJIEfot"
      },
      "source": []
    },
    {
      "cell_type": "code",
      "execution_count": null,
      "metadata": {
        "colab": {
          "base_uri": "https://localhost:8080/",
          "height": 487
        },
        "id": "ztaRKUXqRjdW",
        "outputId": "98c7f0cd-dde8-4f27-8a48-8bd91ff1b995"
      },
      "outputs": [
        {
          "data": {
            "text/html": [
              "\n",
              "  <div id=\"df-7cebd552-7963-4cda-a69c-22631d0e6354\">\n",
              "    <div class=\"colab-df-container\">\n",
              "      <div>\n",
              "<style scoped>\n",
              "    .dataframe tbody tr th:only-of-type {\n",
              "        vertical-align: middle;\n",
              "    }\n",
              "\n",
              "    .dataframe tbody tr th {\n",
              "        vertical-align: top;\n",
              "    }\n",
              "\n",
              "    .dataframe thead th {\n",
              "        text-align: right;\n",
              "    }\n",
              "</style>\n",
              "<table border=\"1\" class=\"dataframe\">\n",
              "  <thead>\n",
              "    <tr style=\"text-align: right;\">\n",
              "      <th></th>\n",
              "      <th>TP_SEXO</th>\n",
              "      <th>TP_COR_RACA</th>\n",
              "      <th>NU_NOTA_CN</th>\n",
              "      <th>NU_NOTA_CH</th>\n",
              "      <th>NU_NOTA_LC</th>\n",
              "      <th>NU_NOTA_MT</th>\n",
              "    </tr>\n",
              "  </thead>\n",
              "  <tbody>\n",
              "    <tr>\n",
              "      <th>0</th>\n",
              "      <td>F</td>\n",
              "      <td>2</td>\n",
              "      <td>NaN</td>\n",
              "      <td>NaN</td>\n",
              "      <td>NaN</td>\n",
              "      <td>NaN</td>\n",
              "    </tr>\n",
              "    <tr>\n",
              "      <th>1</th>\n",
              "      <td>M</td>\n",
              "      <td>3</td>\n",
              "      <td>604.1</td>\n",
              "      <td>661.7</td>\n",
              "      <td>595.3</td>\n",
              "      <td>711.3</td>\n",
              "    </tr>\n",
              "    <tr>\n",
              "      <th>2</th>\n",
              "      <td>F</td>\n",
              "      <td>3</td>\n",
              "      <td>NaN</td>\n",
              "      <td>NaN</td>\n",
              "      <td>NaN</td>\n",
              "      <td>NaN</td>\n",
              "    </tr>\n",
              "    <tr>\n",
              "      <th>3</th>\n",
              "      <td>M</td>\n",
              "      <td>3</td>\n",
              "      <td>620.8</td>\n",
              "      <td>675.0</td>\n",
              "      <td>624.2</td>\n",
              "      <td>759.4</td>\n",
              "    </tr>\n",
              "    <tr>\n",
              "      <th>4</th>\n",
              "      <td>F</td>\n",
              "      <td>3</td>\n",
              "      <td>NaN</td>\n",
              "      <td>NaN</td>\n",
              "      <td>NaN</td>\n",
              "      <td>NaN</td>\n",
              "    </tr>\n",
              "    <tr>\n",
              "      <th>...</th>\n",
              "      <td>...</td>\n",
              "      <td>...</td>\n",
              "      <td>...</td>\n",
              "      <td>...</td>\n",
              "      <td>...</td>\n",
              "      <td>...</td>\n",
              "    </tr>\n",
              "    <tr>\n",
              "      <th>5783104</th>\n",
              "      <td>F</td>\n",
              "      <td>1</td>\n",
              "      <td>508.3</td>\n",
              "      <td>661.4</td>\n",
              "      <td>658.3</td>\n",
              "      <td>725.7</td>\n",
              "    </tr>\n",
              "    <tr>\n",
              "      <th>5783105</th>\n",
              "      <td>M</td>\n",
              "      <td>1</td>\n",
              "      <td>570.5</td>\n",
              "      <td>646.1</td>\n",
              "      <td>607.2</td>\n",
              "      <td>719.5</td>\n",
              "    </tr>\n",
              "    <tr>\n",
              "      <th>5783106</th>\n",
              "      <td>F</td>\n",
              "      <td>1</td>\n",
              "      <td>418.8</td>\n",
              "      <td>597.5</td>\n",
              "      <td>674.5</td>\n",
              "      <td>648.1</td>\n",
              "    </tr>\n",
              "    <tr>\n",
              "      <th>5783107</th>\n",
              "      <td>F</td>\n",
              "      <td>1</td>\n",
              "      <td>NaN</td>\n",
              "      <td>NaN</td>\n",
              "      <td>NaN</td>\n",
              "      <td>NaN</td>\n",
              "    </tr>\n",
              "    <tr>\n",
              "      <th>5783108</th>\n",
              "      <td>F</td>\n",
              "      <td>3</td>\n",
              "      <td>478.5</td>\n",
              "      <td>625.5</td>\n",
              "      <td>538.4</td>\n",
              "      <td>481.7</td>\n",
              "    </tr>\n",
              "  </tbody>\n",
              "</table>\n",
              "<p>5783109 rows × 6 columns</p>\n",
              "</div>\n",
              "      <button class=\"colab-df-convert\" onclick=\"convertToInteractive('df-7cebd552-7963-4cda-a69c-22631d0e6354')\"\n",
              "              title=\"Convert this dataframe to an interactive table.\"\n",
              "              style=\"display:none;\">\n",
              "        \n",
              "  <svg xmlns=\"http://www.w3.org/2000/svg\" height=\"24px\"viewBox=\"0 0 24 24\"\n",
              "       width=\"24px\">\n",
              "    <path d=\"M0 0h24v24H0V0z\" fill=\"none\"/>\n",
              "    <path d=\"M18.56 5.44l.94 2.06.94-2.06 2.06-.94-2.06-.94-.94-2.06-.94 2.06-2.06.94zm-11 1L8.5 8.5l.94-2.06 2.06-.94-2.06-.94L8.5 2.5l-.94 2.06-2.06.94zm10 10l.94 2.06.94-2.06 2.06-.94-2.06-.94-.94-2.06-.94 2.06-2.06.94z\"/><path d=\"M17.41 7.96l-1.37-1.37c-.4-.4-.92-.59-1.43-.59-.52 0-1.04.2-1.43.59L10.3 9.45l-7.72 7.72c-.78.78-.78 2.05 0 2.83L4 21.41c.39.39.9.59 1.41.59.51 0 1.02-.2 1.41-.59l7.78-7.78 2.81-2.81c.8-.78.8-2.07 0-2.86zM5.41 20L4 18.59l7.72-7.72 1.47 1.35L5.41 20z\"/>\n",
              "  </svg>\n",
              "      </button>\n",
              "      \n",
              "  <style>\n",
              "    .colab-df-container {\n",
              "      display:flex;\n",
              "      flex-wrap:wrap;\n",
              "      gap: 12px;\n",
              "    }\n",
              "\n",
              "    .colab-df-convert {\n",
              "      background-color: #E8F0FE;\n",
              "      border: none;\n",
              "      border-radius: 50%;\n",
              "      cursor: pointer;\n",
              "      display: none;\n",
              "      fill: #1967D2;\n",
              "      height: 32px;\n",
              "      padding: 0 0 0 0;\n",
              "      width: 32px;\n",
              "    }\n",
              "\n",
              "    .colab-df-convert:hover {\n",
              "      background-color: #E2EBFA;\n",
              "      box-shadow: 0px 1px 2px rgba(60, 64, 67, 0.3), 0px 1px 3px 1px rgba(60, 64, 67, 0.15);\n",
              "      fill: #174EA6;\n",
              "    }\n",
              "\n",
              "    [theme=dark] .colab-df-convert {\n",
              "      background-color: #3B4455;\n",
              "      fill: #D2E3FC;\n",
              "    }\n",
              "\n",
              "    [theme=dark] .colab-df-convert:hover {\n",
              "      background-color: #434B5C;\n",
              "      box-shadow: 0px 1px 3px 1px rgba(0, 0, 0, 0.15);\n",
              "      filter: drop-shadow(0px 1px 2px rgba(0, 0, 0, 0.3));\n",
              "      fill: #FFFFFF;\n",
              "    }\n",
              "  </style>\n",
              "\n",
              "      <script>\n",
              "        const buttonEl =\n",
              "          document.querySelector('#df-7cebd552-7963-4cda-a69c-22631d0e6354 button.colab-df-convert');\n",
              "        buttonEl.style.display =\n",
              "          google.colab.kernel.accessAllowed ? 'block' : 'none';\n",
              "\n",
              "        async function convertToInteractive(key) {\n",
              "          const element = document.querySelector('#df-7cebd552-7963-4cda-a69c-22631d0e6354');\n",
              "          const dataTable =\n",
              "            await google.colab.kernel.invokeFunction('convertToInteractive',\n",
              "                                                     [key], {});\n",
              "          if (!dataTable) return;\n",
              "\n",
              "          const docLinkHtml = 'Like what you see? Visit the ' +\n",
              "            '<a target=\"_blank\" href=https://colab.research.google.com/notebooks/data_table.ipynb>data table notebook</a>'\n",
              "            + ' to learn more about interactive tables.';\n",
              "          element.innerHTML = '';\n",
              "          dataTable['output_type'] = 'display_data';\n",
              "          await google.colab.output.renderOutput(dataTable, element);\n",
              "          const docLink = document.createElement('div');\n",
              "          docLink.innerHTML = docLinkHtml;\n",
              "          element.appendChild(docLink);\n",
              "        }\n",
              "      </script>\n",
              "    </div>\n",
              "  </div>\n",
              "  "
            ],
            "text/plain": [
              "        TP_SEXO  TP_COR_RACA  NU_NOTA_CN  NU_NOTA_CH  NU_NOTA_LC  NU_NOTA_MT\n",
              "0             F            2         NaN         NaN         NaN         NaN\n",
              "1             M            3       604.1       661.7       595.3       711.3\n",
              "2             F            3         NaN         NaN         NaN         NaN\n",
              "3             M            3       620.8       675.0       624.2       759.4\n",
              "4             F            3         NaN         NaN         NaN         NaN\n",
              "...         ...          ...         ...         ...         ...         ...\n",
              "5783104       F            1       508.3       661.4       658.3       725.7\n",
              "5783105       M            1       570.5       646.1       607.2       719.5\n",
              "5783106       F            1       418.8       597.5       674.5       648.1\n",
              "5783107       F            1         NaN         NaN         NaN         NaN\n",
              "5783108       F            3       478.5       625.5       538.4       481.7\n",
              "\n",
              "[5783109 rows x 6 columns]"
            ]
          },
          "execution_count": 18,
          "metadata": {},
          "output_type": "execute_result"
        }
      ],
      "source": [
        "educacao"
      ]
    },
    {
      "cell_type": "code",
      "execution_count": null,
      "metadata": {
        "id": "TdcBE15RE4nO"
      },
      "outputs": [],
      "source": []
    },
    {
      "cell_type": "markdown",
      "metadata": {
        "id": "YM_0FOQEE6Ja"
      },
      "source": [
        "# Fim da filtragen"
      ]
    },
    {
      "cell_type": "code",
      "execution_count": null,
      "metadata": {
        "colab": {
          "base_uri": "https://localhost:8080/",
          "height": 238,
          "referenced_widgets": [
            "c99d9b3835504293ac5126c371b0733a",
            "81b405d650e541a69e4f5e0fb0e01bf6",
            "5b10b2748cad4f2e905b547acd2eb2e2",
            "0079700ed9bb4f81ac94c24513777a67",
            "770d008a938a4357a1e4d39ca38e34bc",
            "e554dc3c86f0449cb0fc909f4b2c17ab",
            "76645084e522494795213f89c3aa58be",
            "375cd5983bbd432281d6e3ecf1fe49a1",
            "cde6c1bc3a494c82ae268e877b6bac72",
            "b83b8d0b614644c585ba319515bcd0b0",
            "1e16d349b4454514a79cff88897b83ec"
          ]
        },
        "id": "6_N5WKrOkNP4",
        "outputId": "179a4853-7e64-46d6-c05c-f9a536e7cd87"
      },
      "outputs": [
        {
          "output_type": "display_data",
          "data": {
            "text/plain": [
              "Pandas Apply:   0%|          | 0/5783109 [00:00<?, ?it/s]"
            ],
            "application/vnd.jupyter.widget-view+json": {
              "version_major": 2,
              "version_minor": 0,
              "model_id": "c99d9b3835504293ac5126c371b0733a"
            }
          },
          "metadata": {}
        },
        {
          "output_type": "execute_result",
          "data": {
            "text/plain": [
              "  TP_SEXO  TP_COR_RACA  NU_NOTA_CN  NU_NOTA_CH  NU_NOTA_LC  NU_NOTA_MT  \\\n",
              "0       F            2         NaN         NaN         NaN         NaN   \n",
              "1       M            3       604.1       661.7       595.3       711.3   \n",
              "2       F            3         NaN         NaN         NaN         NaN   \n",
              "3       M            3       620.8       675.0       624.2       759.4   \n",
              "4       F            3         NaN         NaN         NaN         NaN   \n",
              "\n",
              "     cor_bool  \n",
              "0  nao_branco  \n",
              "1  nao_branco  \n",
              "2  nao_branco  \n",
              "3  nao_branco  \n",
              "4  nao_branco  "
            ],
            "text/html": [
              "\n",
              "  <div id=\"df-1f1b89dc-d27b-4de2-8e12-605f9ac0b4ec\">\n",
              "    <div class=\"colab-df-container\">\n",
              "      <div>\n",
              "<style scoped>\n",
              "    .dataframe tbody tr th:only-of-type {\n",
              "        vertical-align: middle;\n",
              "    }\n",
              "\n",
              "    .dataframe tbody tr th {\n",
              "        vertical-align: top;\n",
              "    }\n",
              "\n",
              "    .dataframe thead th {\n",
              "        text-align: right;\n",
              "    }\n",
              "</style>\n",
              "<table border=\"1\" class=\"dataframe\">\n",
              "  <thead>\n",
              "    <tr style=\"text-align: right;\">\n",
              "      <th></th>\n",
              "      <th>TP_SEXO</th>\n",
              "      <th>TP_COR_RACA</th>\n",
              "      <th>NU_NOTA_CN</th>\n",
              "      <th>NU_NOTA_CH</th>\n",
              "      <th>NU_NOTA_LC</th>\n",
              "      <th>NU_NOTA_MT</th>\n",
              "      <th>cor_bool</th>\n",
              "    </tr>\n",
              "  </thead>\n",
              "  <tbody>\n",
              "    <tr>\n",
              "      <th>0</th>\n",
              "      <td>F</td>\n",
              "      <td>2</td>\n",
              "      <td>NaN</td>\n",
              "      <td>NaN</td>\n",
              "      <td>NaN</td>\n",
              "      <td>NaN</td>\n",
              "      <td>nao_branco</td>\n",
              "    </tr>\n",
              "    <tr>\n",
              "      <th>1</th>\n",
              "      <td>M</td>\n",
              "      <td>3</td>\n",
              "      <td>604.1</td>\n",
              "      <td>661.7</td>\n",
              "      <td>595.3</td>\n",
              "      <td>711.3</td>\n",
              "      <td>nao_branco</td>\n",
              "    </tr>\n",
              "    <tr>\n",
              "      <th>2</th>\n",
              "      <td>F</td>\n",
              "      <td>3</td>\n",
              "      <td>NaN</td>\n",
              "      <td>NaN</td>\n",
              "      <td>NaN</td>\n",
              "      <td>NaN</td>\n",
              "      <td>nao_branco</td>\n",
              "    </tr>\n",
              "    <tr>\n",
              "      <th>3</th>\n",
              "      <td>M</td>\n",
              "      <td>3</td>\n",
              "      <td>620.8</td>\n",
              "      <td>675.0</td>\n",
              "      <td>624.2</td>\n",
              "      <td>759.4</td>\n",
              "      <td>nao_branco</td>\n",
              "    </tr>\n",
              "    <tr>\n",
              "      <th>4</th>\n",
              "      <td>F</td>\n",
              "      <td>3</td>\n",
              "      <td>NaN</td>\n",
              "      <td>NaN</td>\n",
              "      <td>NaN</td>\n",
              "      <td>NaN</td>\n",
              "      <td>nao_branco</td>\n",
              "    </tr>\n",
              "  </tbody>\n",
              "</table>\n",
              "</div>\n",
              "      <button class=\"colab-df-convert\" onclick=\"convertToInteractive('df-1f1b89dc-d27b-4de2-8e12-605f9ac0b4ec')\"\n",
              "              title=\"Convert this dataframe to an interactive table.\"\n",
              "              style=\"display:none;\">\n",
              "        \n",
              "  <svg xmlns=\"http://www.w3.org/2000/svg\" height=\"24px\"viewBox=\"0 0 24 24\"\n",
              "       width=\"24px\">\n",
              "    <path d=\"M0 0h24v24H0V0z\" fill=\"none\"/>\n",
              "    <path d=\"M18.56 5.44l.94 2.06.94-2.06 2.06-.94-2.06-.94-.94-2.06-.94 2.06-2.06.94zm-11 1L8.5 8.5l.94-2.06 2.06-.94-2.06-.94L8.5 2.5l-.94 2.06-2.06.94zm10 10l.94 2.06.94-2.06 2.06-.94-2.06-.94-.94-2.06-.94 2.06-2.06.94z\"/><path d=\"M17.41 7.96l-1.37-1.37c-.4-.4-.92-.59-1.43-.59-.52 0-1.04.2-1.43.59L10.3 9.45l-7.72 7.72c-.78.78-.78 2.05 0 2.83L4 21.41c.39.39.9.59 1.41.59.51 0 1.02-.2 1.41-.59l7.78-7.78 2.81-2.81c.8-.78.8-2.07 0-2.86zM5.41 20L4 18.59l7.72-7.72 1.47 1.35L5.41 20z\"/>\n",
              "  </svg>\n",
              "      </button>\n",
              "      \n",
              "  <style>\n",
              "    .colab-df-container {\n",
              "      display:flex;\n",
              "      flex-wrap:wrap;\n",
              "      gap: 12px;\n",
              "    }\n",
              "\n",
              "    .colab-df-convert {\n",
              "      background-color: #E8F0FE;\n",
              "      border: none;\n",
              "      border-radius: 50%;\n",
              "      cursor: pointer;\n",
              "      display: none;\n",
              "      fill: #1967D2;\n",
              "      height: 32px;\n",
              "      padding: 0 0 0 0;\n",
              "      width: 32px;\n",
              "    }\n",
              "\n",
              "    .colab-df-convert:hover {\n",
              "      background-color: #E2EBFA;\n",
              "      box-shadow: 0px 1px 2px rgba(60, 64, 67, 0.3), 0px 1px 3px 1px rgba(60, 64, 67, 0.15);\n",
              "      fill: #174EA6;\n",
              "    }\n",
              "\n",
              "    [theme=dark] .colab-df-convert {\n",
              "      background-color: #3B4455;\n",
              "      fill: #D2E3FC;\n",
              "    }\n",
              "\n",
              "    [theme=dark] .colab-df-convert:hover {\n",
              "      background-color: #434B5C;\n",
              "      box-shadow: 0px 1px 3px 1px rgba(0, 0, 0, 0.15);\n",
              "      filter: drop-shadow(0px 1px 2px rgba(0, 0, 0, 0.3));\n",
              "      fill: #FFFFFF;\n",
              "    }\n",
              "  </style>\n",
              "\n",
              "      <script>\n",
              "        const buttonEl =\n",
              "          document.querySelector('#df-1f1b89dc-d27b-4de2-8e12-605f9ac0b4ec button.colab-df-convert');\n",
              "        buttonEl.style.display =\n",
              "          google.colab.kernel.accessAllowed ? 'block' : 'none';\n",
              "\n",
              "        async function convertToInteractive(key) {\n",
              "          const element = document.querySelector('#df-1f1b89dc-d27b-4de2-8e12-605f9ac0b4ec');\n",
              "          const dataTable =\n",
              "            await google.colab.kernel.invokeFunction('convertToInteractive',\n",
              "                                                     [key], {});\n",
              "          if (!dataTable) return;\n",
              "\n",
              "          const docLinkHtml = 'Like what you see? Visit the ' +\n",
              "            '<a target=\"_blank\" href=https://colab.research.google.com/notebooks/data_table.ipynb>data table notebook</a>'\n",
              "            + ' to learn more about interactive tables.';\n",
              "          element.innerHTML = '';\n",
              "          dataTable['output_type'] = 'display_data';\n",
              "          await google.colab.output.renderOutput(dataTable, element);\n",
              "          const docLink = document.createElement('div');\n",
              "          docLink.innerHTML = docLinkHtml;\n",
              "          element.appendChild(docLink);\n",
              "        }\n",
              "      </script>\n",
              "    </div>\n",
              "  </div>\n",
              "  "
            ]
          },
          "metadata": {},
          "execution_count": 3
        }
      ],
      "source": [
        "import seaborn as sn\n",
        "\n",
        "import swifter\n",
        "def my_func(row):\n",
        "    if row['TP_COR_RACA'] == 0:\n",
        "        val = 'nao_branco'\n",
        "    elif row['TP_COR_RACA']  == 2:\n",
        "        val = 'nao_branco'\n",
        "    elif row['TP_COR_RACA']  == 3:\n",
        "        val = 'nao_branco'\n",
        "    elif row['TP_COR_RACA']  == 4:\n",
        "        val = 'nao_branco'\n",
        "    else:\n",
        "        val = 'branco' == 5;\n",
        "    return val\n",
        "\n",
        "educacao['cor_bool'] = educacao.swifter.apply(my_func, axis=1)\n",
        "educacao.head()\n"
      ]
    },
    {
      "cell_type": "code",
      "execution_count": null,
      "metadata": {
        "id": "yz126Dj0Adbx"
      },
      "outputs": [],
      "source": [
        "#trata os NaNs\n",
        "educacao.fillna(0, inplace=True)\n"
      ]
    },
    {
      "cell_type": "code",
      "execution_count": null,
      "metadata": {
        "id": "rNQH6U8oGC59"
      },
      "outputs": [],
      "source": [
        "import pandas as pd\n",
        "\n",
        "# Transforma a variável TP_SEXO em binária\n",
        "educacao = pd.get_dummies(educacao, columns=['TP_SEXO'])\n",
        "\n",
        "# Cria os 4 grupos\n",
        "grupos = educacao.groupby(['TP_SEXO_F', 'cor_bool'])['NU_NOTA_MT'].agg('mean')\n"
      ]
    },
    {
      "cell_type": "code",
      "execution_count": null,
      "metadata": {
        "id": "8GnR9UL1AwjQ"
      },
      "outputs": [],
      "source": [
        "from sklearn.model_selection import train_test_split\n",
        "\n",
        "# Separando as features (X) e target (y)\n",
        "X = educacao.drop(['NU_NOTA_MT'], axis=1)\n",
        "y = educacao['NU_NOTA_MT']\n",
        "\n",
        "# Dividindo o conjunto de dados em treino e teste\n",
        "X_train, X_test, y_train, y_test = train_test_split(X, y, test_size=0.3, random_state=42)\n"
      ]
    },
    {
      "cell_type": "code",
      "execution_count": null,
      "metadata": {
        "id": "a8BC0LEXDt4O"
      },
      "outputs": [],
      "source": [
        "from sklearn.model_selection import train_test_split\n",
        "\n",
        "# separar as features das variáveis de resposta\n",
        "X = educacao.drop('NU_NOTA_MT', axis=1)\n",
        "y = educacao['NU_NOTA_MT']\n",
        "\n",
        "# separar em conjuntos de treinamento e teste\n",
        "X_train, X_test, y_train, y_test = train_test_split(X, y, test_size=0.2, random_state=42)\n"
      ]
    },
    {
      "cell_type": "code",
      "execution_count": null,
      "metadata": {
        "id": "cA5b_Q_vl_iM"
      },
      "outputs": [],
      "source": [
        "educacao = educacao.replace(r'^\\s*$', np.nan, regex=True)\n",
        "\n",
        "data = educacao[[\"cor_bool\", \"NU_NOTA_CN\", \"NU_NOTA_CH\", \"NU_NOTA_LC\", \"NU_NOTA_MT\"]]\n",
        "predict = \"NU_NOTA_MT\"\n",
        "x = np.array(data.drop([predict], 1))\n",
        "y = np.array(data[predict])\n",
        "\n",
        "from sklearn.model_selection import train_test_split\n",
        "xtrain, xtest, ytrain, ytest = train_test_split(x, y, test_size=0.2)\n",
        "\n",
        "\n",
        ""
      ]
    },
    {
      "cell_type": "code",
      "execution_count": null,
      "metadata": {
        "id": "atqjRZDYAb53"
      },
      "outputs": [],
      "source": []
    },
    {
      "cell_type": "code",
      "execution_count": null,
      "metadata": {
        "id": "cK_eGW_J-RwK"
      },
      "outputs": [],
      "source": [
        "import pandas as pd\n",
        "import numpy as np\n",
        "from sklearn.model_selection import train_test_split\n",
        "from sklearn.preprocessing import LabelEncoder, StandardScaler\n",
        "from tensorflow import keras\n",
        "\n",
        "# Lê os dados\n",
        "educacao = pd.read_csv('/content/drive/MyDrive/MICRODADOS_ENEM_2020.csv',\n",
        "                       error_bad_lines=False,\n",
        "                       sep=';',\n",
        "                       encoding='ISO-8859-1',\n",
        "                       usecols=[\"NU_NOTA_MT\", \"NU_NOTA_LC\", \"NU_NOTA_CH\", \"NU_NOTA_CN\", \"TP_SEXO\", \"TP_COR_RACA\"])\n",
        "\n",
        "# Converte a coluna TP_COR_RACA em valores binários\n",
        "def my_func(row):\n",
        "    if row['TP_COR_RACA'] == 0:\n",
        "        val = '1'\n",
        "    elif row['TP_COR_RACA']  == 2:\n",
        "        val = '1'\n",
        "    elif row['TP_COR_RACA']  == 3:\n",
        "        val = '1'\n",
        "    elif row['TP_COR_RACA']  == 4:\n",
        "        val = '1'\n",
        "    else:\n",
        "        val = '0'\n",
        "    return val\n",
        "\n",
        "educacao['cor_bool'] = educacao.swifter.apply(my_func, axis=1)\n",
        "\n",
        "# Separa as variáveis dependentes das independentes\n",
        "X = educacao.drop(['NU_NOTA_MT'], axis=1)\n",
        "y = educacao['NU_NOTA_MT']\n",
        "\n",
        "# Codifica as variáveis categóricas em valores numéricos\n",
        "encoder = LabelEncoder()\n",
        "X['TP_SEXO'] = encoder.fit_transform(X['TP_SEXO'])\n",
        "X['cor_bool'] = encoder.fit_transform(X['cor_bool'])\n",
        "\n",
        "# Divide os dados em conjuntos de treino e teste\n",
        "X_train, X_test, y_train, y_test = train_test_split(X, y, test_size=0.2, random_state=1)\n",
        "\n",
        "# Normaliza os dados\n",
        "scaler = StandardScaler()\n",
        "X_train = scaler.fit_transform(X_train)\n",
        "X_test = scaler.transform(X_test)\n",
        "\n",
        "# Define a arquitetura da rede neural\n",
        "model = keras.Sequential([\n",
        "    keras.layers.Dense(16, input_dim=X_train.shape[1], activation='relu'),\n",
        "    keras.layers.Dense(8, activation='relu'),\n",
        "    keras.layers.Dense(1)\n",
        "])\n",
        "\n",
        "# Compila o modelo\n",
        "model.compile(loss='mean_squared_error', optimizer='adam')\n",
        "\n",
        "# Treina o modelo\n",
        "model.fit(X_train, y_train, epochs=50, batch_size=32, validation_split=0.2)\n",
        "\n",
        "# Avalia o modelo\n",
        "score = model.evaluate(X_test, y_test)\n",
        "print('Test loss:', score)\n",
        "\n",
        "# Faz previsões com o modelo treinado\n",
        "y_pred = model.predict(X_test)\n"
      ]
    },
    {
      "cell_type": "code",
      "execution_count": null,
      "metadata": {
        "id": "gn0c4E4qC91z"
      },
      "outputs": [],
      "source": [
        "from sklearn.model_selection import train_test_split\n",
        "\n",
        "X = educacao.drop(['NU_NOTA_MT'], axis=1)\n",
        "y = educacao['NU_NOTA_MT']\n",
        "\n",
        "X_train, X_test, y_train, y_test = train_test_split(X, y, test_size=0.2, random_state=42)"
      ]
    },
    {
      "cell_type": "code",
      "execution_count": null,
      "metadata": {
        "colab": {
          "base_uri": "https://localhost:8080/",
          "height": 450
        },
        "id": "tKLECnfAlGMi",
        "outputId": "b1977c47-ca9a-4bfc-8103-b6ad60a3e690"
      },
      "outputs": [
        {
          "output_type": "stream",
          "name": "stdout",
          "text": [
            "Epoch 1/10\n",
            "115663/115663 [==============================] - 263s 2ms/step - loss: nan - mae: nan - val_loss: nan - val_mae: nan\n",
            "Epoch 2/10\n",
            " 11603/115663 [==>...........................] - ETA: 3:20 - loss: nan - mae: nan"
          ]
        },
        {
          "output_type": "error",
          "ename": "KeyboardInterrupt",
          "evalue": "ignored",
          "traceback": [
            "\u001b[0;31m---------------------------------------------------------------------------\u001b[0m",
            "\u001b[0;31mKeyboardInterrupt\u001b[0m                         Traceback (most recent call last)",
            "\u001b[0;32m<ipython-input-7-871fc184beae>\u001b[0m in \u001b[0;36m<cell line: 54>\u001b[0;34m()\u001b[0m\n\u001b[1;32m     52\u001b[0m \u001b[0;34m\u001b[0m\u001b[0m\n\u001b[1;32m     53\u001b[0m \u001b[0;31m# treina o modelo\u001b[0m\u001b[0;34m\u001b[0m\u001b[0;34m\u001b[0m\u001b[0m\n\u001b[0;32m---> 54\u001b[0;31m \u001b[0mmodel\u001b[0m\u001b[0;34m.\u001b[0m\u001b[0mfit\u001b[0m\u001b[0;34m(\u001b[0m\u001b[0mX_train\u001b[0m\u001b[0;34m,\u001b[0m \u001b[0my_train\u001b[0m\u001b[0;34m,\u001b[0m \u001b[0mepochs\u001b[0m\u001b[0;34m=\u001b[0m\u001b[0;36m10\u001b[0m\u001b[0;34m,\u001b[0m \u001b[0mbatch_size\u001b[0m\u001b[0;34m=\u001b[0m\u001b[0;36m32\u001b[0m\u001b[0;34m,\u001b[0m \u001b[0mvalidation_split\u001b[0m\u001b[0;34m=\u001b[0m\u001b[0;36m0.2\u001b[0m\u001b[0;34m)\u001b[0m\u001b[0;34m\u001b[0m\u001b[0;34m\u001b[0m\u001b[0m\n\u001b[0m\u001b[1;32m     55\u001b[0m \u001b[0;34m\u001b[0m\u001b[0m\n\u001b[1;32m     56\u001b[0m \u001b[0;31m# avalia o modelo no conjunto de teste\u001b[0m\u001b[0;34m\u001b[0m\u001b[0;34m\u001b[0m\u001b[0m\n",
            "\u001b[0;32m/usr/local/lib/python3.9/dist-packages/keras/utils/traceback_utils.py\u001b[0m in \u001b[0;36merror_handler\u001b[0;34m(*args, **kwargs)\u001b[0m\n\u001b[1;32m     63\u001b[0m         \u001b[0mfiltered_tb\u001b[0m \u001b[0;34m=\u001b[0m \u001b[0;32mNone\u001b[0m\u001b[0;34m\u001b[0m\u001b[0;34m\u001b[0m\u001b[0m\n\u001b[1;32m     64\u001b[0m         \u001b[0;32mtry\u001b[0m\u001b[0;34m:\u001b[0m\u001b[0;34m\u001b[0m\u001b[0;34m\u001b[0m\u001b[0m\n\u001b[0;32m---> 65\u001b[0;31m             \u001b[0;32mreturn\u001b[0m \u001b[0mfn\u001b[0m\u001b[0;34m(\u001b[0m\u001b[0;34m*\u001b[0m\u001b[0margs\u001b[0m\u001b[0;34m,\u001b[0m \u001b[0;34m**\u001b[0m\u001b[0mkwargs\u001b[0m\u001b[0;34m)\u001b[0m\u001b[0;34m\u001b[0m\u001b[0;34m\u001b[0m\u001b[0m\n\u001b[0m\u001b[1;32m     66\u001b[0m         \u001b[0;32mexcept\u001b[0m \u001b[0mException\u001b[0m \u001b[0;32mas\u001b[0m \u001b[0me\u001b[0m\u001b[0;34m:\u001b[0m\u001b[0;34m\u001b[0m\u001b[0;34m\u001b[0m\u001b[0m\n\u001b[1;32m     67\u001b[0m             \u001b[0mfiltered_tb\u001b[0m \u001b[0;34m=\u001b[0m \u001b[0m_process_traceback_frames\u001b[0m\u001b[0;34m(\u001b[0m\u001b[0me\u001b[0m\u001b[0;34m.\u001b[0m\u001b[0m__traceback__\u001b[0m\u001b[0;34m)\u001b[0m\u001b[0;34m\u001b[0m\u001b[0;34m\u001b[0m\u001b[0m\n",
            "\u001b[0;32m/usr/local/lib/python3.9/dist-packages/keras/engine/training.py\u001b[0m in \u001b[0;36mfit\u001b[0;34m(self, x, y, batch_size, epochs, verbose, callbacks, validation_split, validation_data, shuffle, class_weight, sample_weight, initial_epoch, steps_per_epoch, validation_steps, validation_batch_size, validation_freq, max_queue_size, workers, use_multiprocessing)\u001b[0m\n\u001b[1;32m   1683\u001b[0m                         ):\n\u001b[1;32m   1684\u001b[0m                             \u001b[0mcallbacks\u001b[0m\u001b[0;34m.\u001b[0m\u001b[0mon_train_batch_begin\u001b[0m\u001b[0;34m(\u001b[0m\u001b[0mstep\u001b[0m\u001b[0;34m)\u001b[0m\u001b[0;34m\u001b[0m\u001b[0;34m\u001b[0m\u001b[0m\n\u001b[0;32m-> 1685\u001b[0;31m                             \u001b[0mtmp_logs\u001b[0m \u001b[0;34m=\u001b[0m \u001b[0mself\u001b[0m\u001b[0;34m.\u001b[0m\u001b[0mtrain_function\u001b[0m\u001b[0;34m(\u001b[0m\u001b[0miterator\u001b[0m\u001b[0;34m)\u001b[0m\u001b[0;34m\u001b[0m\u001b[0;34m\u001b[0m\u001b[0m\n\u001b[0m\u001b[1;32m   1686\u001b[0m                             \u001b[0;32mif\u001b[0m \u001b[0mdata_handler\u001b[0m\u001b[0;34m.\u001b[0m\u001b[0mshould_sync\u001b[0m\u001b[0;34m:\u001b[0m\u001b[0;34m\u001b[0m\u001b[0;34m\u001b[0m\u001b[0m\n\u001b[1;32m   1687\u001b[0m                                 \u001b[0mcontext\u001b[0m\u001b[0;34m.\u001b[0m\u001b[0masync_wait\u001b[0m\u001b[0;34m(\u001b[0m\u001b[0;34m)\u001b[0m\u001b[0;34m\u001b[0m\u001b[0;34m\u001b[0m\u001b[0m\n",
            "\u001b[0;32m/usr/local/lib/python3.9/dist-packages/tensorflow/python/util/traceback_utils.py\u001b[0m in \u001b[0;36merror_handler\u001b[0;34m(*args, **kwargs)\u001b[0m\n\u001b[1;32m    148\u001b[0m     \u001b[0mfiltered_tb\u001b[0m \u001b[0;34m=\u001b[0m \u001b[0;32mNone\u001b[0m\u001b[0;34m\u001b[0m\u001b[0;34m\u001b[0m\u001b[0m\n\u001b[1;32m    149\u001b[0m     \u001b[0;32mtry\u001b[0m\u001b[0;34m:\u001b[0m\u001b[0;34m\u001b[0m\u001b[0;34m\u001b[0m\u001b[0m\n\u001b[0;32m--> 150\u001b[0;31m       \u001b[0;32mreturn\u001b[0m \u001b[0mfn\u001b[0m\u001b[0;34m(\u001b[0m\u001b[0;34m*\u001b[0m\u001b[0margs\u001b[0m\u001b[0;34m,\u001b[0m \u001b[0;34m**\u001b[0m\u001b[0mkwargs\u001b[0m\u001b[0;34m)\u001b[0m\u001b[0;34m\u001b[0m\u001b[0;34m\u001b[0m\u001b[0m\n\u001b[0m\u001b[1;32m    151\u001b[0m     \u001b[0;32mexcept\u001b[0m \u001b[0mException\u001b[0m \u001b[0;32mas\u001b[0m \u001b[0me\u001b[0m\u001b[0;34m:\u001b[0m\u001b[0;34m\u001b[0m\u001b[0;34m\u001b[0m\u001b[0m\n\u001b[1;32m    152\u001b[0m       \u001b[0mfiltered_tb\u001b[0m \u001b[0;34m=\u001b[0m \u001b[0m_process_traceback_frames\u001b[0m\u001b[0;34m(\u001b[0m\u001b[0me\u001b[0m\u001b[0;34m.\u001b[0m\u001b[0m__traceback__\u001b[0m\u001b[0;34m)\u001b[0m\u001b[0;34m\u001b[0m\u001b[0;34m\u001b[0m\u001b[0m\n",
            "\u001b[0;32m/usr/local/lib/python3.9/dist-packages/tensorflow/python/eager/polymorphic_function/polymorphic_function.py\u001b[0m in \u001b[0;36m__call__\u001b[0;34m(self, *args, **kwds)\u001b[0m\n\u001b[1;32m    892\u001b[0m \u001b[0;34m\u001b[0m\u001b[0m\n\u001b[1;32m    893\u001b[0m       \u001b[0;32mwith\u001b[0m \u001b[0mOptionalXlaContext\u001b[0m\u001b[0;34m(\u001b[0m\u001b[0mself\u001b[0m\u001b[0;34m.\u001b[0m\u001b[0m_jit_compile\u001b[0m\u001b[0;34m)\u001b[0m\u001b[0;34m:\u001b[0m\u001b[0;34m\u001b[0m\u001b[0;34m\u001b[0m\u001b[0m\n\u001b[0;32m--> 894\u001b[0;31m         \u001b[0mresult\u001b[0m \u001b[0;34m=\u001b[0m \u001b[0mself\u001b[0m\u001b[0;34m.\u001b[0m\u001b[0m_call\u001b[0m\u001b[0;34m(\u001b[0m\u001b[0;34m*\u001b[0m\u001b[0margs\u001b[0m\u001b[0;34m,\u001b[0m \u001b[0;34m**\u001b[0m\u001b[0mkwds\u001b[0m\u001b[0;34m)\u001b[0m\u001b[0;34m\u001b[0m\u001b[0;34m\u001b[0m\u001b[0m\n\u001b[0m\u001b[1;32m    895\u001b[0m \u001b[0;34m\u001b[0m\u001b[0m\n\u001b[1;32m    896\u001b[0m       \u001b[0mnew_tracing_count\u001b[0m \u001b[0;34m=\u001b[0m \u001b[0mself\u001b[0m\u001b[0;34m.\u001b[0m\u001b[0mexperimental_get_tracing_count\u001b[0m\u001b[0;34m(\u001b[0m\u001b[0;34m)\u001b[0m\u001b[0;34m\u001b[0m\u001b[0;34m\u001b[0m\u001b[0m\n",
            "\u001b[0;32m/usr/local/lib/python3.9/dist-packages/tensorflow/python/eager/polymorphic_function/polymorphic_function.py\u001b[0m in \u001b[0;36m_call\u001b[0;34m(self, *args, **kwds)\u001b[0m\n\u001b[1;32m    924\u001b[0m       \u001b[0;31m# In this case we have created variables on the first call, so we run the\u001b[0m\u001b[0;34m\u001b[0m\u001b[0;34m\u001b[0m\u001b[0m\n\u001b[1;32m    925\u001b[0m       \u001b[0;31m# defunned version which is guaranteed to never create variables.\u001b[0m\u001b[0;34m\u001b[0m\u001b[0;34m\u001b[0m\u001b[0m\n\u001b[0;32m--> 926\u001b[0;31m       \u001b[0;32mreturn\u001b[0m \u001b[0mself\u001b[0m\u001b[0;34m.\u001b[0m\u001b[0m_no_variable_creation_fn\u001b[0m\u001b[0;34m(\u001b[0m\u001b[0;34m*\u001b[0m\u001b[0margs\u001b[0m\u001b[0;34m,\u001b[0m \u001b[0;34m**\u001b[0m\u001b[0mkwds\u001b[0m\u001b[0;34m)\u001b[0m  \u001b[0;31m# pylint: disable=not-callable\u001b[0m\u001b[0;34m\u001b[0m\u001b[0;34m\u001b[0m\u001b[0m\n\u001b[0m\u001b[1;32m    927\u001b[0m     \u001b[0;32melif\u001b[0m \u001b[0mself\u001b[0m\u001b[0;34m.\u001b[0m\u001b[0m_variable_creation_fn\u001b[0m \u001b[0;32mis\u001b[0m \u001b[0;32mnot\u001b[0m \u001b[0;32mNone\u001b[0m\u001b[0;34m:\u001b[0m\u001b[0;34m\u001b[0m\u001b[0;34m\u001b[0m\u001b[0m\n\u001b[1;32m    928\u001b[0m       \u001b[0;31m# Release the lock early so that multiple threads can perform the call\u001b[0m\u001b[0;34m\u001b[0m\u001b[0;34m\u001b[0m\u001b[0m\n",
            "\u001b[0;32m/usr/local/lib/python3.9/dist-packages/tensorflow/python/eager/polymorphic_function/tracing_compiler.py\u001b[0m in \u001b[0;36m__call__\u001b[0;34m(self, *args, **kwargs)\u001b[0m\n\u001b[1;32m    140\u001b[0m     \u001b[0;32mwith\u001b[0m \u001b[0mself\u001b[0m\u001b[0;34m.\u001b[0m\u001b[0m_lock\u001b[0m\u001b[0;34m:\u001b[0m\u001b[0;34m\u001b[0m\u001b[0;34m\u001b[0m\u001b[0m\n\u001b[1;32m    141\u001b[0m       (concrete_function,\n\u001b[0;32m--> 142\u001b[0;31m        filtered_flat_args) = self._maybe_define_function(args, kwargs)\n\u001b[0m\u001b[1;32m    143\u001b[0m     return concrete_function._call_flat(\n\u001b[1;32m    144\u001b[0m         filtered_flat_args, captured_inputs=concrete_function.captured_inputs)  # pylint: disable=protected-access\n",
            "\u001b[0;32m/usr/local/lib/python3.9/dist-packages/tensorflow/python/eager/polymorphic_function/tracing_compiler.py\u001b[0m in \u001b[0;36m_maybe_define_function\u001b[0;34m(self, args, kwargs)\u001b[0m\n\u001b[1;32m    354\u001b[0m     \u001b[0;31m# only active captures should be saved.\u001b[0m\u001b[0;34m\u001b[0m\u001b[0;34m\u001b[0m\u001b[0m\n\u001b[1;32m    355\u001b[0m     lookup_func_type, lookup_func_context = (\n\u001b[0;32m--> 356\u001b[0;31m         self._function_spec.make_canonicalized_monomorphic_type(\n\u001b[0m\u001b[1;32m    357\u001b[0m             args, kwargs, captures))\n\u001b[1;32m    358\u001b[0m     concrete_function = self._function_cache.lookup(current_func_context,\n",
            "\u001b[0;32m/usr/local/lib/python3.9/dist-packages/tensorflow/python/eager/polymorphic_function/function_spec.py\u001b[0m in \u001b[0;36mmake_canonicalized_monomorphic_type\u001b[0;34m(self, args, kwargs, captures)\u001b[0m\n\u001b[1;32m    343\u001b[0m \u001b[0;34m\u001b[0m\u001b[0m\n\u001b[1;32m    344\u001b[0m     _, function_type, type_context = (\n\u001b[0;32m--> 345\u001b[0;31m         function_type_lib.canonicalize_to_monomorphic(\n\u001b[0m\u001b[1;32m    346\u001b[0m             \u001b[0margs\u001b[0m\u001b[0;34m,\u001b[0m \u001b[0mkwargs\u001b[0m\u001b[0;34m,\u001b[0m \u001b[0mself\u001b[0m\u001b[0;34m.\u001b[0m\u001b[0mdefault_values\u001b[0m\u001b[0;34m,\u001b[0m \u001b[0mcaptures\u001b[0m\u001b[0;34m,\u001b[0m \u001b[0mself\u001b[0m\u001b[0;34m.\u001b[0m\u001b[0mfunction_type\u001b[0m\u001b[0;34m\u001b[0m\u001b[0;34m\u001b[0m\u001b[0m\n\u001b[1;32m    347\u001b[0m         )\n",
            "\u001b[0;32m/usr/local/lib/python3.9/dist-packages/tensorflow/core/function/polymorphism/function_type.py\u001b[0m in \u001b[0;36mcanonicalize_to_monomorphic\u001b[0;34m(args, kwargs, default_values, captures, polymorphic_type)\u001b[0m\n\u001b[1;32m    386\u001b[0m   \u001b[0mparameters\u001b[0m \u001b[0;34m=\u001b[0m \u001b[0;34m[\u001b[0m\u001b[0;34m]\u001b[0m\u001b[0;34m\u001b[0m\u001b[0;34m\u001b[0m\u001b[0m\n\u001b[1;32m    387\u001b[0m   \u001b[0mtype_context\u001b[0m \u001b[0;34m=\u001b[0m \u001b[0mtrace_type\u001b[0m\u001b[0;34m.\u001b[0m\u001b[0mInternalTracingContext\u001b[0m\u001b[0;34m(\u001b[0m\u001b[0;34m)\u001b[0m\u001b[0;34m\u001b[0m\u001b[0;34m\u001b[0m\u001b[0m\n\u001b[0;32m--> 388\u001b[0;31m   has_var_positional = any(p.kind is Parameter.VAR_POSITIONAL\n\u001b[0m\u001b[1;32m    389\u001b[0m                            for p in polymorphic_type.parameters.values())\n\u001b[1;32m    390\u001b[0m \u001b[0;34m\u001b[0m\u001b[0m\n",
            "\u001b[0;32m/usr/local/lib/python3.9/dist-packages/tensorflow/core/function/polymorphism/function_type.py\u001b[0m in \u001b[0;36m<genexpr>\u001b[0;34m(.0)\u001b[0m\n\u001b[1;32m    386\u001b[0m   \u001b[0mparameters\u001b[0m \u001b[0;34m=\u001b[0m \u001b[0;34m[\u001b[0m\u001b[0;34m]\u001b[0m\u001b[0;34m\u001b[0m\u001b[0;34m\u001b[0m\u001b[0m\n\u001b[1;32m    387\u001b[0m   \u001b[0mtype_context\u001b[0m \u001b[0;34m=\u001b[0m \u001b[0mtrace_type\u001b[0m\u001b[0;34m.\u001b[0m\u001b[0mInternalTracingContext\u001b[0m\u001b[0;34m(\u001b[0m\u001b[0;34m)\u001b[0m\u001b[0;34m\u001b[0m\u001b[0;34m\u001b[0m\u001b[0m\n\u001b[0;32m--> 388\u001b[0;31m   has_var_positional = any(p.kind is Parameter.VAR_POSITIONAL\n\u001b[0m\u001b[1;32m    389\u001b[0m                            for p in polymorphic_type.parameters.values())\n\u001b[1;32m    390\u001b[0m \u001b[0;34m\u001b[0m\u001b[0m\n",
            "\u001b[0;31mKeyboardInterrupt\u001b[0m: "
          ]
        }
      ],
      "source": [
        "import pandas as pd\n",
        "from sklearn.model_selection import train_test_split\n",
        "from sklearn.preprocessing import StandardScaler\n",
        "from keras.models import Sequential\n",
        "from keras.layers import Dense\n",
        "\n",
        "# carrega o dataset\n",
        "educacao = pd.read_csv('/content/drive/MyDrive/MICRODADOS_ENEM_2020.csv', sep=';', encoding='ISO-8859-1', usecols=['NU_NOTA_MT', 'NU_NOTA_LC', 'NU_NOTA_CH', 'NU_NOTA_CN', 'TP_SEXO', 'TP_COR_RACA'])\n",
        "\n",
        "# cria a variável dummy para a cor do aluno\n",
        "def my_func(row):\n",
        "    if row['TP_COR_RACA'] == 0:\n",
        "        val = '1'\n",
        "    elif row['TP_COR_RACA']  == 2:\n",
        "        val = '1'\n",
        "    elif row['TP_COR_RACA']  == 3:\n",
        "        val = '1'\n",
        "    elif row['TP_COR_RACA']  == 4:\n",
        "        val = '1'\n",
        "    else:\n",
        "        val = '0'\n",
        "    return val\n",
        "\n",
        "educacao['cor_bool'] = educacao.apply(my_func, axis=1)\n",
        "\n",
        "# cria a variável dummy para o sexo do aluno\n",
        "sexo_dummies = pd.get_dummies(educacao['TP_SEXO'], prefix='sexo', drop_first=True)\n",
        "\n",
        "# combina as variáveis dummy com o dataframe original\n",
        "educacao = pd.concat([educacao, sexo_dummies], axis=1)\n",
        "\n",
        "# define as variáveis de entrada (notas, cor e sexo) e a variável de saída (nota de matemática)\n",
        "X = educacao[['NU_NOTA_LC', 'NU_NOTA_CH', 'NU_NOTA_CN', 'cor_bool', 'sexo_M']]\n",
        "y = educacao['NU_NOTA_MT']\n",
        "\n",
        "# divide os dados em conjunto de treino e teste\n",
        "X_train, X_test, y_train, y_test = train_test_split(X, y, test_size=0.2)\n",
        "\n",
        "# aplica a transformação de padronização às variáveis de entrada\n",
        "scaler = StandardScaler()\n",
        "X_train = scaler.fit_transform(X_train)\n",
        "X_test = scaler.transform(X_test)\n",
        "\n",
        "# cria a rede neural\n",
        "model = Sequential()\n",
        "model.add(Dense(64, activation='relu', input_dim=5))\n",
        "model.add(Dense(32, activation='relu'))\n",
        "model.add(Dense(1))\n",
        "\n",
        "# compila o modelo\n",
        "model.compile(optimizer='adam', loss='mse', metrics=['mae'])\n",
        "\n",
        "# treina o modelo\n",
        "model.fit(X_train, y_train, epochs=10, batch_size=32, validation_split=0.2)\n",
        "\n",
        "# avalia o modelo no conjunto de teste\n",
        "score = model.evaluate(X_test, y_test)\n",
        "\n",
        "# faz as previsões no conjunto de teste\n",
        "y_pred = model.predict(X_test)\n"
      ]
    },
    {
      "cell_type": "code",
      "execution_count": null,
      "metadata": {
        "colab": {
          "base_uri": "https://localhost:8080/"
        },
        "id": "g8HyTqHoYEPE",
        "outputId": "b40913ab-f012-4018-a5c1-4ae7bfa30a25"
      },
      "outputs": [
        {
          "output_type": "stream",
          "name": "stdout",
          "text": [
            "RMSE: 76.6945538050756\n"
          ]
        }
      ],
      "source": [
        "import pandas as pd\n",
        "import seaborn as sns\n",
        "from sklearn.model_selection import train_test_split\n",
        "from sklearn.linear_model import LinearRegression\n",
        "from sklearn.metrics import mean_squared_error\n",
        "import matplotlib.pyplot as plt\n",
        "\n",
        "# Carrega o arquivo de dados\n",
        "df = pd.read_csv('/content/drive/MyDrive/MICRODADOS_ENEM_2020.csv', error_bad_lines=False, sep=\";\", encoding='ISO-8859-1', usecols=[\"NU_NOTA_MT\", \"NU_NOTA_LC\", \"NU_NOTA_CH\", \"NU_NOTA_CN\", \"TP_SEXO\", \"TP_COR_RACA\"])\n",
        "\n",
        "# Remove as linhas com valores nulos\n",
        "df.dropna(inplace=True)\n",
        "\n",
        "# Cria uma coluna com as raças\n",
        "def my_func(row):\n",
        "    if row['TP_COR_RACA'] == 0:\n",
        "        val = 'nao_branco'\n",
        "    elif row['TP_COR_RACA'] == 2:\n",
        "        val = 'nao_branco'\n",
        "    elif row['TP_COR_RACA'] == 3:\n",
        "        val = 'nao_branco'\n",
        "    elif row['TP_COR_RACA'] == 4:\n",
        "        val = 'nao_branco'\n",
        "    else:\n",
        "        val = 'branco'\n",
        "    return val\n",
        "\n",
        "df['cor_bool'] = df.apply(my_func, axis=1)\n",
        "\n",
        "# Transforma as variáveis categóricas em variáveis numéricas\n",
        "df = pd.get_dummies(df, columns=[\"TP_SEXO\", \"cor_bool\"])\n",
        "\n",
        "# Separa as variáveis independentes da variável dependente\n",
        "X = df.drop(columns=[\"NU_NOTA_MT\"])\n",
        "y = df[[\"NU_NOTA_MT\"]]\n",
        "\n",
        "# Separa os dados em conjunto de treino e conjunto de teste\n",
        "X_train, X_test, y_train, y_test = train_test_split(X, y, test_size=0.2, random_state=42)\n",
        "\n",
        "# Treina o modelo de regressão linear\n",
        "reg = LinearRegression()\n",
        "reg.fit(X_train, y_train)\n",
        "\n",
        "# Faz a previsão das notas para o conjunto de teste\n",
        "y_pred = reg.predict(X_test)\n",
        "\n",
        "# Calcula o erro RMSE\n",
        "rmse = mean_squared_error(y_test, y_pred, squared=False)\n",
        "print(f\"RMSE: {rmse}\")\n",
        "\n",
        "# Cria um dataframe com as previsões e as notas reais\n",
        "test_df = X_test.copy()\n",
        "test_df['NU_NOTA_MT'] = y_test.values\n",
        "test_df['NU_NOTA_MT_pred'] = y_pred\n",
        "\n",
        "# Agrupa as previsões por gênero e cor\n",
        "grouped = test_df.groupby([\"TP_SEXO_F\", \"TP_SEXO_M\", \"cor_bool_branco\", \"cor_bool_nao_branco\"]).mean().reset_index()\n",
        "\n",
        "# Plota gráfico das previsões para mulheres não brancas\n",
        "#plt.figure(figsize=(8,6))\n",
        "#plt.plot(grouped[grouped[\"TP_SEXO_F\"]==1][grouped[\"cor_bool_branco\"]==0][\"NU_NOTA_MT\"], label=\"Notas reais\")\n",
        "#plt.plot(grouped[grouped[\"TP_SEXO_F\"]==1][grouped[\"cor_bool_branco\"]==0][\"NU_NOTA_MT_pred\"], label=\"Previsão\")\n",
        "#plt.title(\"Previsão de notas para mulheres não brancas\")\n",
        "#plt.xlabel\n"
      ]
    },
    {
      "cell_type": "code",
      "execution_count": null,
      "metadata": {
        "id": "XhRn6aSpboqa"
      },
      "outputs": [],
      "source": [
        "import seaborn as sns\n",
        "\n",
        "# Separar os grupos\n",
        "def my_func(row):\n",
        "    if row['TP_COR_RACA'] == 0:\n",
        "        val = 'nao_branco'\n",
        "    elif row['TP_COR_RACA']  == 2:\n",
        "        val = 'nao_branco'\n",
        "    elif row['TP_COR_RACA']  == 3:\n",
        "        val = 'nao_branco'\n",
        "    elif row['TP_COR_RACA']  == 4:\n",
        "        val = 'nao_branco'\n",
        "    else:\n",
        "        val = 'branco'\n",
        "    return val\n",
        "\n",
        "educacao['cor_bool'] = educacao.apply(my_func, axis=1)\n",
        "\n",
        "\n",
        "# Filtrar os grupos de interesse\n",
        "mulheres_nao_branco = educacao[(educacao['cor_bool'] == 'nao_branco') & (educacao['TP_SEXO'] == 'F')]\n",
        "mulheres_branco = educacao[(educacao['cor_bool'] == 'branco') & (educacao['TP_SEXO'] == 'F')]\n",
        "homens_nao_branco = educacao[(educacao['cor_bool'] == 'nao_branco') & (educacao['TP_SEXO'] == 'M')]\n",
        "homens_branco = educacao[(educacao['cor_bool'] == 'branco') & (educacao['TP_SEXO'] == 'M')]\n",
        "\n"
      ]
    },
    {
      "cell_type": "code",
      "execution_count": null,
      "metadata": {
        "colab": {
          "base_uri": "https://localhost:8080/",
          "height": 452
        },
        "id": "UVmOL2OSlHWS",
        "outputId": "7f873e7f-b5e3-41e0-c621-fb5cbb86cf30"
      },
      "outputs": [
        {
          "output_type": "display_data",
          "data": {
            "text/plain": [
              "<Figure size 640x480 with 1 Axes>"
            ],
            "image/png": "[encoded data removed]"
          },
          "metadata": {}
        }
      ],
      "source": [
        "# Filtra apenas os dados das mulheres brancas e não brancas\n",
        "women_white = grouped[(grouped['TP_SEXO_F'] == 1) & (grouped['cor_bool_branco'] == 1)]\n",
        "women_nonwhite = grouped[(grouped['TP_SEXO_F'] == 1) & (grouped['cor_bool_nao_branco'] == 1)]\n",
        "\n",
        "# Cria as listas de valores para plotagem\n",
        "labels = ['Mulheres Brancas', 'Mulheres Não Brancas']\n",
        "x = np.arange(len(labels))\n",
        "y1 = [women_white['NU_NOTA_MT_pred'].values[0], women_nonwhite['NU_NOTA_MT_pred'].values[0]]\n",
        "\n",
        "# Plota o gráfico de barras\n",
        "plt.bar(x, y1)\n",
        "plt.xticks(x, labels)\n",
        "plt.ylabel('Previsão de Notas')\n",
        "plt.title('Previsão de Notas das Mulheres Brancas e Não Brancas')\n",
        "plt.show()\n"
      ]
    },
    {
      "cell_type": "code",
      "execution_count": null,
      "metadata": {
        "colab": {
          "base_uri": "https://localhost:8080/",
          "height": 452
        },
        "id": "jxS3x_Volx7f",
        "outputId": "6556e067-5202-4f37-9188-ee824561c785"
      },
      "outputs": [
        {
          "output_type": "display_data",
          "data": {
            "text/plain": [
              "<Figure size 640x480 with 1 Axes>"
            ],
            "image/png": "[encoded data removed]"
          },
          "metadata": {}
        }
      ],
      "source": [
        "# Filtra apenas os dados dos homens brancos e não brancos\n",
        "men_white = grouped[(grouped['TP_SEXO_M'] == 1) & (grouped['cor_bool_branco'] == 1)]\n",
        "men_nonwhite = grouped[(grouped['TP_SEXO_M'] == 1) & (grouped['cor_bool_nao_branco'] == 1)]\n",
        "\n",
        "# Cria as listas de valores para plotagem\n",
        "labels = ['Homens Brancos', 'Homens Não Brancos']\n",
        "x = np.arange(len(labels))\n",
        "y2 = [men_white['NU_NOTA_MT_pred'].values[0], men_nonwhite['NU_NOTA_MT_pred'].values[0]]\n",
        "\n",
        "# Plota o gráfico de barras\n",
        "plt.bar(x, y2)\n",
        "plt.xticks(x, labels)\n",
        "plt.ylabel('Previsão de Notas')\n",
        "plt.title('Previsão de Notas dos Homens Brancos e Não Brancos')\n",
        "plt.show()\n"
      ]
    },
    {
      "cell_type": "code",
      "execution_count": null,
      "metadata": {
        "colab": {
          "base_uri": "https://localhost:8080/",
          "height": 281
        },
        "id": "FP6Yv_vpmdrM",
        "outputId": "6498cdf5-4cca-4b57-ed65-30fd381b3be2"
      },
      "outputs": [
        {
          "data": {
            "image/png": "[encoded data removed]",
            "text/plain": [
              "<Figure size 432x288 with 1 Axes>"
            ]
          },
          "metadata": {},
          "output_type": "display_data"
        }
      ],
      "source": [
        "import matplotlib.pyplot as plt\n",
        "import numpy as np\n",
        "\n",
        "# Filtra apenas os dados dos homens brancos e não brancos\n",
        "men_white = grouped[(grouped['TP_SEXO_F'] == 0) & (grouped['cor_bool_branco'] == 1)]\n",
        "men_nonwhite = grouped[(grouped['TP_SEXO_F'] == 0) & (grouped['cor_bool_nao_branco'] == 1)]\n",
        "\n",
        "# Cria as listas de valores para plotagem\n",
        "data = [men_white['NU_NOTA_MT_pred'].values, men_nonwhite['NU_NOTA_MT_pred'].values]\n",
        "labels = ['Homens Brancos', 'Homens Não Brancos']\n",
        "\n",
        "# Plota o boxplot\n",
        "fig, ax = plt.subplots()\n",
        "ax.boxplot(data)\n",
        "ax.set_xticklabels(labels)\n",
        "ax.set_ylabel('Previsão de Notas')\n",
        "ax.set_title('Previsão de Notas de Matemática Separado por Homens Brancos e Não Brancos')\n",
        "\n",
        "plt.show()\n"
      ]
    },
    {
      "cell_type": "code",
      "execution_count": null,
      "metadata": {
        "colab": {
          "base_uri": "https://localhost:8080/",
          "height": 281
        },
        "id": "GBI8Pi6WmuRU",
        "outputId": "1ad040ea-4bf5-42d0-b80e-52bc91d10160"
      },
      "outputs": [
        {
          "data": {
            "image/png": "[encoded data removed]",
            "text/plain": [
              "<Figure size 432x288 with 1 Axes>"
            ]
          },
          "metadata": {},
          "output_type": "display_data"
        }
      ],
      "source": [
        "import seaborn as sns\n",
        "\n",
        "# Filtra apenas os dados dos homens brancos e não brancos\n",
        "men_white = grouped[(grouped['TP_SEXO_F'] == 0) & (grouped['cor_bool_branco'] == 1)]\n",
        "men_nonwhite = grouped[(grouped['TP_SEXO_F'] == 0) & (grouped['cor_bool_nao_branco'] == 1)]\n",
        "\n",
        "# Cria um dataframe para plotagem dos boxplots\n",
        "data = {'Homens Brancos': men_white['NU_NOTA_MT_pred'],\n",
        "        'Homens Não Brancos': men_nonwhite['NU_NOTA_MT_pred']}\n",
        "df = pd.DataFrame(data)\n",
        "\n",
        "# Plota os boxplots\n",
        "sns.boxplot(data=df)\n",
        "plt.ylabel('Previsão de Notas')\n",
        "plt.title('Previsão de Notas dos Homens Brancos e Não Brancos')\n",
        "plt.show()\n"
      ]
    },
    {
      "cell_type": "code",
      "execution_count": null,
      "metadata": {
        "colab": {
          "base_uri": "https://localhost:8080/",
          "height": 282
        },
        "id": "rkPw3RxKnT8z",
        "outputId": "044988e4-651c-4c3f-f7d2-8aeac3306a65"
      },
      "outputs": [
        {
          "data": {
            "image/png": "[encoded data removed]",
            "text/plain": [
              "<Figure size 432x288 with 1 Axes>"
            ]
          },
          "metadata": {},
          "output_type": "display_data"
        }
      ],
      "source": [
        "# Filtra apenas os dados das mulheres brancas e não brancas\n",
        "women_white = grouped[(grouped['TP_SEXO_F'] == 1) & (grouped['cor_bool_branco'] == 1)]\n",
        "women_nonwhite = grouped[(grouped['TP_SEXO_F'] == 1) & (grouped['cor_bool_nao_branco'] == 1)]\n",
        "\n",
        "# Cria o boxplot\n",
        "plt.style.use('ggplot')\n",
        "sns.boxplot(data=educacao[(educacao['TP_SEXO'] == 'F') & (educacao['cor_bool_branco'] == 1) | (educacao['cor_bool_nao_branco'] == 1)],\n",
        "            x='cor', y='NU_NOTA_MT', hue='cor_bool')\n",
        "\n",
        "plt.title('Distribuição de notas de matemática das mulheres brancas e não brancas')\n",
        "plt.xlabel('Cor')\n",
        "plt.ylabel('Nota de matemática')\n",
        "plt.show()\n"
      ]
    },
    {
      "cell_type": "code",
      "execution_count": null,
      "metadata": {
        "colab": {
          "base_uri": "https://localhost:8080/",
          "height": 283
        },
        "id": "7zauaBQHnlJo",
        "outputId": "4fdc862b-2a44-4586-b1cd-46c7d3a4803f"
      },
      "outputs": [
        {
          "data": {
            "image/png": "[encoded data removed]",
            "text/plain": [
              "<Figure size 432x288 with 1 Axes>"
            ]
          },
          "metadata": {},
          "output_type": "display_data"
        }
      ],
      "source": [
        "import matplotlib.pyplot as plt\n",
        "import numpy as np\n",
        "\n",
        "# Filtra apenas os dados das mulheres brancas e não brancas\n",
        "women_white = grouped[(grouped['TP_SEXO_F'] == 1) & (grouped['cor_bool_branco'] == 1)]\n",
        "women_nonwhite = grouped[(grouped['TP_SEXO_F'] == 1) & (grouped['cor_bool_nao_branco'] == 1)]\n",
        "\n",
        "# Cria as listas de valores para plotagem\n",
        "data = [women_white['NU_NOTA_MT_pred'].values, women_nonwhite['NU_NOTA_MT_pred'].values]\n",
        "labels = ['Mulheres Brancas', 'Mulheres Não Brancas']\n",
        "\n",
        "# Plota o boxplot\n",
        "fig, ax = plt.subplots()\n",
        "ax.boxplot(data)\n",
        "ax.set_xticklabels(labels)\n",
        "ax.set_ylabel('Previsão de Notas')\n",
        "ax.set_title('Previsão de Notas de Matemática Separado por Mulheres Brancas e Não Brancas')\n",
        "\n",
        "plt.show()\n"
      ]
    },
    {
      "cell_type": "code",
      "execution_count": null,
      "metadata": {
        "colab": {
          "base_uri": "https://localhost:8080/",
          "height": 282
        },
        "id": "98niZcKvojTt",
        "outputId": "c0a3583a-fb51-42a0-cec3-2de019084442"
      },
      "outputs": [
        {
          "data": {
            "image/png": "[encoded data removed]",
            "text/plain": [
              "<Figure size 432x288 with 1 Axes>"
            ]
          },
          "metadata": {},
          "output_type": "display_data"
        }
      ],
      "source": [
        "import matplotlib.pyplot as plt\n",
        "import seaborn as sns\n",
        "\n",
        "# Filtra apenas os dados das mulheres não brancas\n",
        "women_nonwhite = grouped[(grouped['TP_SEXO_F'] == 1) & (grouped['cor_bool_nao_branco'] == 1)]\n",
        "\n",
        "# Cria as listas de valores para plotagem\n",
        "labels = ['Notas Reais', 'Notas Previstas']\n",
        "x = np.arange(len(labels))\n",
        "y1 = [women_nonwhite['NU_NOTA_MT'].values[0], women_nonwhite['NU_NOTA_MT_pred'].values[0]]\n",
        "\n",
        "# Plota o gráfico de barras\n",
        "plt.bar(x, y1)\n",
        "plt.xticks(x, labels)\n",
        "plt.ylabel('Notas')\n",
        "plt.title('Notas Reais e Previstas de Matemática das Mulheres Não Brancas')\n",
        "plt.show()\n"
      ]
    },
    {
      "cell_type": "code",
      "execution_count": null,
      "metadata": {
        "id": "-MrC9t8XpQlY"
      },
      "outputs": [],
      "source": [
        "# Homens brancos\n",
        "men_white = educacao[(educacao['TP_SEXO'] == 'M') & (educacao['cor_bool'] == 'branco')]\n",
        "\n",
        "# Homens não brancos\n",
        "men_nonwhite = educacao[(educacao['TP_SEXO'] == 'M') & (educacao['cor_bool'] == 'nao_branco')]\n",
        "\n",
        "# Mulheres brancas\n",
        "women_white = educacao[(educacao['TP_SEXO'] == 'F') & (educacao['cor_bool'] == 'branco')]\n",
        "\n",
        "# Mulheres não brancas\n",
        "women_nonwhite = educacao[(educacao['TP_SEXO'] == 'F') & (educacao['cor_bool'] == 'nao_branco')]\n"
      ]
    },
    {
      "cell_type": "code",
      "execution_count": null,
      "metadata": {
        "id": "h-ugot-FpQoL"
      },
      "outputs": [],
      "source": [
        "from sklearn.linear_model import LinearRegression\n",
        "\n",
        "# Homens brancos\n",
        "men_white_X = men_white[['NU_NOTA_CN', 'NU_NOTA_CH', 'NU_NOTA_LC']]\n",
        "men_white_y = men_white['NU_NOTA_MT']\n",
        "\n",
        "# Homens não brancos\n",
        "men_nonwhite_X = men_nonwhite[['NU_NOTA_CN', 'NU_NOTA_CH', 'NU_NOTA_LC']]\n",
        "men_nonwhite_y = men_nonwhite['NU_NOTA_MT']\n",
        "\n",
        "# Mulheres brancas\n",
        "women_white_X = women_white[['NU_NOTA_CN', 'NU_NOTA_CH', 'NU_NOTA_LC']]\n",
        "women_white_y = women_white['NU_NOTA_MT']\n",
        "\n",
        "# Mulheres não brancas\n",
        "women_nonwhite_X = women_nonwhite[['NU_NOTA_CN', 'NU_NOTA_CH', 'NU_NOTA_LC']]\n",
        "women_nonwhite_y = women_nonwhite['NU_NOTA_MT']\n"
      ]
    },
    {
      "cell_type": "code",
      "execution_count": null,
      "metadata": {
        "id": "Te2s2QZy4D8N"
      },
      "outputs": [],
      "source": [
        "import pandas as pd\n",
        "\n",
        "# Carrega a base de dados\n",
        "educacao = pd.re                                                                                                                                                                                                                                                                                                                                                                                                                                                                                                                                                                                                                                                                                                                                                                                                                                                                                                                                                                                                                                                                                                                                                                                                                                                                                                   ad_csv('/content/drive/MyDrive/MICRODADOS_ENEM_2020.csv',\n",
        "                        sep=';', encoding='ISO-8859-1',\n",
        "                        usecols=[\"NU_NOTA_MT\", \"NU_NOTA_LC\", \"NU_NOTA_CH\", \"NU_NOTA_CN\", \"TP_SEXO\", \"TP_COR_RACA\"])\n",
        "\n",
        "# Cria uma coluna 'cor_bool' para identificar se é branco ou não\n",
        "def categoriza_cor(row):\n",
        "    if row['TP_COR_RACA'] == 0:\n",
        "        return 'nao_branco'\n",
        "    elif row['TP_COR_RACA'] == 2:\n",
        "        return 'nao_branco'\n",
        "    elif row['TP_COR_RACA'] == 3:\n",
        "        return 'nao_branco'\n",
        "    elif row['TP_COR_RACA'] == 4:\n",
        "        return 'nao_branco'\n",
        "    else:\n",
        "        return 'branco'\n",
        "\n",
        "educacao['cor_bool'] = educacao.apply(categoriza_cor, axis=1)\n",
        "\n",
        "# Separação por gênero e raça\n",
        "mulheres_brancas = educacao[(educacao['TP_SEXO'] == 'F') & (educacao['cor_bool'] == 'branco')]\n",
        "mulheres_nao_brancas = educacao[(educacao['TP_SEXO'] == 'F') & (educacao['cor_bool'] == 'nao_branco')]\n",
        "homens_brancos = educacao[(educacao['TP_SEXO'] == 'M') & (educacao['cor_bool'] == 'branco')]\n",
        "homens_nao_brancos = educacao[(educacao['TP_SEXO'] == 'M') & (educacao['cor_bool'] == 'nao_branco')]\n"
      ]
    },
    {
      "cell_type": "code",
      "execution_count": null,
      "metadata": {
        "id": "ZGfLR6fL52Av"
      },
      "outputs": [],
      "source": [
        "from sklearn.model_selection import train_test_split\n",
        "\n",
        "# Definindo as variáveis preditoras e a variável alvo\n",
        "X = educacao.drop(['NU_NOTA_MT'], axis=1)\n",
        "y = educacao['NU_NOTA_MT']\n",
        "\n",
        "# Dividindo em conjunto de treino e teste (70% para treino e 30% para teste)\n",
        "X_train, X_test, y_train, y_test = train_test_split(X, y, test_size=0.3, random_state=42)\n"
      ]
    },
    {
      "cell_type": "code",
      "execution_count": null,
      "metadata": {
        "id": "M2Q_mBQoEPYA"
      },
      "outputs": [],
      "source": [
        "import pandas as pd\n",
        "import numpy as np\n",
        "from sklearn.model_selection import train_test_split\n",
        "from sklearn.linear_model import LinearRegression\n",
        "from sklearn.metrics import mean_squared_error\n",
        "from sklearn.impute import SimpleImputer\n",
        "from sklearn.preprocessing import OneHotEncoder\n",
        "\n",
        "# Leitura dos dados\n",
        "educacao = pd.read_csv('/content/drive/MyDrive/MICRODADOS_ENEM_2020.csv', sep=';', encoding='ISO-8859-1', usecols=[\"NU_NOTA_MT\", \"NU_NOTA_LC\", \"NU_NOTA_CH\", \"NU_NOTA_CN\", \"TP_SEXO\", \"TP_COR_RACA\"])\n",
        "\n",
        "categorical_cols = ['TP_COR_RACA', 'TP_SEXO']\n",
        "\n",
        "\n",
        "# Criando coluna com informação sobre a raça\n",
        "def my_func(row):\n",
        "    if row['TP_COR_RACA'] == 0:\n",
        "        val = 'nao_branco'\n",
        "    elif row['TP_COR_RACA']  == 2:\n",
        "        val = 'nao_branco'\n",
        "    elif row['TP_COR_RACA']  == 3:\n",
        "        val = 'nao_branco'\n",
        "    elif row['TP_COR_RACA']  == 4:\n",
        "        val = 'nao_branco'\n",
        "    else:\n",
        "        val = 'branco' == 5;\n",
        "    return val\n",
        "\n",
        "educacao['cor_bool'] = educacao.apply(my_func, axis=1)\n",
        "\n",
        "# Separando os dados por sexo e cor/raça\n",
        "df_ww = educacao.loc[(educacao['TP_SEXO'] == 'F') & (educacao['cor_bool'] == 'branco')]\n",
        "df_nww = educacao.loc[(educacao['TP_SEXO'] == 'F') & (educacao['cor_bool'] == 'nao_branco')]\n",
        "df_mw = educacao.loc[(educacao['TP_SEXO'] == 'M') & (educacao['cor_bool'] == 'branco')]\n",
        "df_nmw = educacao.loc[(educacao['TP_SEXO'] == 'M') & (educacao['cor_bool'] == 'nao_branco')]\n",
        "\n",
        "# Separando em variáveis dependentes e independentes\n",
        "X_ww = df_ww.drop(['NU_NOTA_MT'], axis=1)\n",
        "y_ww = df_ww['NU_NOTA_MT']\n",
        "X_nww = df_nww.drop(['NU_NOTA_MT'], axis=1)\n",
        "y_nww = df_nww['NU_NOTA_MT']\n",
        "X_mw = df_mw.drop(['NU_NOTA_MT'], axis=1)\n",
        "y_mw = df_mw['NU_NOTA_MT']\n",
        "X_nmw = df_nmw.drop(['NU_NOTA_MT'], axis=1)\n",
        "y_nmw = df_nmw['NU_NOTA_MT']\n",
        "\n",
        "# Convertendo variável de sexo em dummies\n",
        "X_ww = pd.get_dummies(X_ww, columns=['TP_SEXO'], drop_first=True)\n",
        "X_nww = pd.get_dummies(X_nww, columns=['TP_SEXO'], drop_first=True)\n",
        "X_mw = pd.get_dummies(X_mw, columns=['TP_SEXO'], drop_first=True)\n",
        "X_nmw = pd.get_dummies(X_nmw, columns=['TP_SEXO'], drop_first=True)\n",
        "\n",
        "# Tratando valores NaN\n",
        "imputer = SimpleImputer(strategy='mean')\n",
        "educacao.dropna(inplace=True)\n",
        "\n",
        "# Convertendo variáveis categóricas em numéricas\n",
        "educacao[categorical_cols] = educacao[categorical_cols].apply(lambda x: pd.factorize(x)[0])\n",
        "\n",
        "\n",
        "\n"
      ]
    },
    {
      "cell_type": "code",
      "execution_count": null,
      "metadata": {
        "colab": {
          "base_uri": "https://localhost:8080/"
        },
        "id": "kur7ih-U0pmP",
        "outputId": "88eeadc9-4840-412f-b76d-f6cfaac218fc"
      },
      "outputs": [
        {
          "name": "stderr",
          "output_type": "stream",
          "text": [
            "/usr/local/lib/python3.9/dist-packages/sklearn/preprocessing/_encoders.py:868: FutureWarning: `sparse` was renamed to `sparse_output` in version 1.2 and will be removed in 1.4. `sparse_output` is ignored unless you leave `sparse` to its default value.\n",
            "  warnings.warn(\n"
          ]
        }
      ],
      "source": [
        "# Tratando valores NaN\n",
        "imputer = SimpleImputer(strategy='mean')\n",
        "educacao = educacao.dropna()\n",
        "\n",
        "# Convertendo variáveis categóricas em numéricas\n",
        "educacao[categorical_cols] = educacao[categorical_cols].apply(lambda x: pd.factorize(x)[0])\n",
        "\n",
        "# Convertendo variáveis categóricas em dummies\n",
        "ohe = OneHotEncoder(sparse=False, handle_unknown='ignore')\n",
        "encoded_cols = pd.DataFrame(ohe.fit_transform(educacao[categorical_cols]))\n",
        "encoded_cols.index = educacao.index\n",
        "educacao = educacao.drop(categorical_cols, axis=1)\n",
        "educacao = pd.concat([educacao, encoded_cols], axis=1)\n"
      ]
    }
  ],
  "metadata": {
    "colab": {
      "provenance": [],
      "mount_file_id": "15LILM9haWAHp3K_tt4cYrnaJWe86ob8X",
      "authorship_tag": "ABX9TyMy8PlsnvIQRaWFWIx/VGF6",
      "include_colab_link": true
    },
    "kernelspec": {
      "display_name": "Python 3",
      "name": "python3"
    },
    "language_info": {
      "name": "python"
    },
    "widgets": {
      "application/vnd.jupyter.widget-state+json": {
        "c99d9b3835504293ac5126c371b0733a": {
          "model_module": "@jupyter-widgets/controls",
          "model_name": "HBoxModel",
          "model_module_version": "1.5.0",
          "state": {
            "_dom_classes": [],
            "_model_module": "@jupyter-widgets/controls",
            "_model_module_version": "1.5.0",
            "_model_name": "HBoxModel",
            "_view_count": null,
            "_view_module": "@jupyter-widgets/controls",
            "_view_module_version": "1.5.0",
            "_view_name": "HBoxView",
            "box_style": "",
            "children": [
              "IPY_MODEL_81b405d650e541a69e4f5e0fb0e01bf6",
              "IPY_MODEL_5b10b2748cad4f2e905b547acd2eb2e2",
              "IPY_MODEL_0079700ed9bb4f81ac94c24513777a67"
            ],
            "layout": "IPY_MODEL_770d008a938a4357a1e4d39ca38e34bc"
          }
        },
        "81b405d650e541a69e4f5e0fb0e01bf6": {
          "model_module": "@jupyter-widgets/controls",
          "model_name": "HTMLModel",
          "model_module_version": "1.5.0",
          "state": {
            "_dom_classes": [],
            "_model_module": "@jupyter-widgets/controls",
            "_model_module_version": "1.5.0",
            "_model_name": "HTMLModel",
            "_view_count": null,
            "_view_module": "@jupyter-widgets/controls",
            "_view_module_version": "1.5.0",
            "_view_name": "HTMLView",
            "description": "",
            "description_tooltip": null,
            "layout": "IPY_MODEL_e554dc3c86f0449cb0fc909f4b2c17ab",
            "placeholder": "​",
            "style": "IPY_MODEL_76645084e522494795213f89c3aa58be",
            "value": "Pandas Apply: 100%"
          }
        },
        "5b10b2748cad4f2e905b547acd2eb2e2": {
          "model_module": "@jupyter-widgets/controls",
          "model_name": "FloatProgressModel",
          "model_module_version": "1.5.0",
          "state": {
            "_dom_classes": [],
            "_model_module": "@jupyter-widgets/controls",
            "_model_module_version": "1.5.0",
            "_model_name": "FloatProgressModel",
            "_view_count": null,
            "_view_module": "@jupyter-widgets/controls",
            "_view_module_version": "1.5.0",
            "_view_name": "ProgressView",
            "bar_style": "success",
            "description": "",
            "description_tooltip": null,
            "layout": "IPY_MODEL_375cd5983bbd432281d6e3ecf1fe49a1",
            "max": 5783109,
            "min": 0,
            "orientation": "horizontal",
            "style": "IPY_MODEL_cde6c1bc3a494c82ae268e877b6bac72",
            "value": 5783109
          }
        },
        "0079700ed9bb4f81ac94c24513777a67": {
          "model_module": "@jupyter-widgets/controls",
          "model_name": "HTMLModel",
          "model_module_version": "1.5.0",
          "state": {
            "_dom_classes": [],
            "_model_module": "@jupyter-widgets/controls",
            "_model_module_version": "1.5.0",
            "_model_name": "HTMLModel",
            "_view_count": null,
            "_view_module": "@jupyter-widgets/controls",
            "_view_module_version": "1.5.0",
            "_view_name": "HTMLView",
            "description": "",
            "description_tooltip": null,
            "layout": "IPY_MODEL_b83b8d0b614644c585ba319515bcd0b0",
            "placeholder": "​",
            "style": "IPY_MODEL_1e16d349b4454514a79cff88897b83ec",
            "value": " 5783109/5783109 [01:47&lt;00:00, 65569.47it/s]"
          }
        },
        "770d008a938a4357a1e4d39ca38e34bc": {
          "model_module": "@jupyter-widgets/base",
          "model_name": "LayoutModel",
          "model_module_version": "1.2.0",
          "state": {
            "_model_module": "@jupyter-widgets/base",
            "_model_module_version": "1.2.0",
            "_model_name": "LayoutModel",
            "_view_count": null,
            "_view_module": "@jupyter-widgets/base",
            "_view_module_version": "1.2.0",
            "_view_name": "LayoutView",
            "align_content": null,
            "align_items": null,
            "align_self": null,
            "border": null,
            "bottom": null,
            "display": null,
            "flex": null,
            "flex_flow": null,
            "grid_area": null,
            "grid_auto_columns": null,
            "grid_auto_flow": null,
            "grid_auto_rows": null,
            "grid_column": null,
            "grid_gap": null,
            "grid_row": null,
            "grid_template_areas": null,
            "grid_template_columns": null,
            "grid_template_rows": null,
            "height": null,
            "justify_content": null,
            "justify_items": null,
            "left": null,
            "margin": null,
            "max_height": null,
            "max_width": null,
            "min_height": null,
            "min_width": null,
            "object_fit": null,
            "object_position": null,
            "order": null,
            "overflow": null,
            "overflow_x": null,
            "overflow_y": null,
            "padding": null,
            "right": null,
            "top": null,
            "visibility": null,
            "width": null
          }
        },
        "e554dc3c86f0449cb0fc909f4b2c17ab": {
          "model_module": "@jupyter-widgets/base",
          "model_name": "LayoutModel",
          "model_module_version": "1.2.0",
          "state": {
            "_model_module": "@jupyter-widgets/base",
            "_model_module_version": "1.2.0",
            "_model_name": "LayoutModel",
            "_view_count": null,
            "_view_module": "@jupyter-widgets/base",
            "_view_module_version": "1.2.0",
            "_view_name": "LayoutView",
            "align_content": null,
            "align_items": null,
            "align_self": null,
            "border": null,
            "bottom": null,
            "display": null,
            "flex": null,
            "flex_flow": null,
            "grid_area": null,
            "grid_auto_columns": null,
            "grid_auto_flow": null,
            "grid_auto_rows": null,
            "grid_column": null,
            "grid_gap": null,
            "grid_row": null,
            "grid_template_areas": null,
            "grid_template_columns": null,
            "grid_template_rows": null,
            "height": null,
            "justify_content": null,
            "justify_items": null,
            "left": null,
            "margin": null,
            "max_height": null,
            "max_width": null,
            "min_height": null,
            "min_width": null,
            "object_fit": null,
            "object_position": null,
            "order": null,
            "overflow": null,
            "overflow_x": null,
            "overflow_y": null,
            "padding": null,
            "right": null,
            "top": null,
            "visibility": null,
            "width": null
          }
        },
        "76645084e522494795213f89c3aa58be": {
          "model_module": "@jupyter-widgets/controls",
          "model_name": "DescriptionStyleModel",
          "model_module_version": "1.5.0",
          "state": {
            "_model_module": "@jupyter-widgets/controls",
            "_model_module_version": "1.5.0",
            "_model_name": "DescriptionStyleModel",
            "_view_count": null,
            "_view_module": "@jupyter-widgets/base",
            "_view_module_version": "1.2.0",
            "_view_name": "StyleView",
            "description_width": ""
          }
        },
        "375cd5983bbd432281d6e3ecf1fe49a1": {
          "model_module": "@jupyter-widgets/base",
          "model_name": "LayoutModel",
          "model_module_version": "1.2.0",
          "state": {
            "_model_module": "@jupyter-widgets/base",
            "_model_module_version": "1.2.0",
            "_model_name": "LayoutModel",
            "_view_count": null,
            "_view_module": "@jupyter-widgets/base",
            "_view_module_version": "1.2.0",
            "_view_name": "LayoutView",
            "align_content": null,
            "align_items": null,
            "align_self": null,
            "border": null,
            "bottom": null,
            "display": null,
            "flex": null,
            "flex_flow": null,
            "grid_area": null,
            "grid_auto_columns": null,
            "grid_auto_flow": null,
            "grid_auto_rows": null,
            "grid_column": null,
            "grid_gap": null,
            "grid_row": null,
            "grid_template_areas": null,
            "grid_template_columns": null,
            "grid_template_rows": null,
            "height": null,
            "justify_content": null,
            "justify_items": null,
            "left": null,
            "margin": null,
            "max_height": null,
            "max_width": null,
            "min_height": null,
            "min_width": null,
            "object_fit": null,
            "object_position": null,
            "order": null,
            "overflow": null,
            "overflow_x": null,
            "overflow_y": null,
            "padding": null,
            "right": null,
            "top": null,
            "visibility": null,
            "width": null
          }
        },
        "cde6c1bc3a494c82ae268e877b6bac72": {
          "model_module": "@jupyter-widgets/controls",
          "model_name": "ProgressStyleModel",
          "model_module_version": "1.5.0",
          "state": {
            "_model_module": "@jupyter-widgets/controls",
            "_model_module_version": "1.5.0",
            "_model_name": "ProgressStyleModel",
            "_view_count": null,
            "_view_module": "@jupyter-widgets/base",
            "_view_module_version": "1.2.0",
            "_view_name": "StyleView",
            "bar_color": null,
            "description_width": ""
          }
        },
        "b83b8d0b614644c585ba319515bcd0b0": {
          "model_module": "@jupyter-widgets/base",
          "model_name": "LayoutModel",
          "model_module_version": "1.2.0",
          "state": {
            "_model_module": "@jupyter-widgets/base",
            "_model_module_version": "1.2.0",
            "_model_name": "LayoutModel",
            "_view_count": null,
            "_view_module": "@jupyter-widgets/base",
            "_view_module_version": "1.2.0",
            "_view_name": "LayoutView",
            "align_content": null,
            "align_items": null,
            "align_self": null,
            "border": null,
            "bottom": null,
            "display": null,
            "flex": null,
            "flex_flow": null,
            "grid_area": null,
            "grid_auto_columns": null,
            "grid_auto_flow": null,
            "grid_auto_rows": null,
            "grid_column": null,
            "grid_gap": null,
            "grid_row": null,
            "grid_template_areas": null,
            "grid_template_columns": null,
            "grid_template_rows": null,
            "height": null,
            "justify_content": null,
            "justify_items": null,
            "left": null,
            "margin": null,
            "max_height": null,
            "max_width": null,
            "min_height": null,
            "min_width": null,
            "object_fit": null,
            "object_position": null,
            "order": null,
            "overflow": null,
            "overflow_x": null,
            "overflow_y": null,
            "padding": null,
            "right": null,
            "top": null,
            "visibility": null,
            "width": null
          }
        },
        "1e16d349b4454514a79cff88897b83ec": {
          "model_module": "@jupyter-widgets/controls",
          "model_name": "DescriptionStyleModel",
          "model_module_version": "1.5.0",
          "state": {
            "_model_module": "@jupyter-widgets/controls",
            "_model_module_version": "1.5.0",
            "_model_name": "DescriptionStyleModel",
            "_view_count": null,
            "_view_module": "@jupyter-widgets/base",
            "_view_module_version": "1.2.0",
            "_view_name": "StyleView",
            "description_width": ""
          }
        }
      }
    }
  },
  "nbformat": 4,
  "nbformat_minor": 0
}