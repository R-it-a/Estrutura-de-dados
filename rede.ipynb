{
  "cells": [
    {
      "cell_type": "markdown",
      "metadata": {
        "id": "view-in-github",
        "colab_type": "text"
      },
      "source": [
        "<a href=\"https://colab.research.google.com/github/R-it-a/Estrutura-de-dados/blob/main/rede.ipynb\" target=\"_parent\"><img src=\"https://colab.research.google.com/assets/colab-badge.svg\" alt=\"Open In Colab\"/></a>"
      ]
    },
    {
      "cell_type": "code",
      "execution_count": null,
      "metadata": {
        "colab": {
          "background_save": true,
          "base_uri": "https://localhost:8080/"
        },
        "id": "uD3JlHhBI3yK",
        "outputId": "a8a5a282-b47d-4421-af38-f892dbb4f7c4"
      },
      "outputs": [
        {
          "name": "stdout",
          "output_type": "stream",
          "text": [
            "Mounted at /content/drive\n",
            "Looking in indexes: https://pypi.org/simple, https://us-python.pkg.dev/colab-wheels/public/simple/\n",
            "Collecting swifter\n",
            "  Downloading swifter-1.3.4.tar.gz (830 kB)\n",
            "\u001b[2K     \u001b[90m━━━━━━━━━━━━━━━━━━━━━━━━━━━━━━━━━━━━━━\u001b[0m \u001b[32m830.9/830.9 kB\u001b[0m \u001b[31m30.3 MB/s\u001b[0m eta \u001b[36m0:00:00\u001b[0m\n",
            "\u001b[?25h  Preparing metadata (setup.py) ... \u001b[?25l\u001b[?25hdone\n",
            "Requirement already satisfied: pandas>=1.0.0 in /usr/local/lib/python3.9/dist-packages (from swifter) (1.5.3)\n",
            "Requirement already satisfied: psutil>=5.6.6 in /usr/local/lib/python3.9/dist-packages (from swifter) (5.9.4)\n",
            "Requirement already satisfied: dask[dataframe]>=2.10.0 in /usr/local/lib/python3.9/dist-packages (from swifter) (2022.12.1)\n",
            "Requirement already satisfied: tqdm>=4.33.0 in /usr/local/lib/python3.9/dist-packages (from swifter) (4.65.0)\n",
            "Requirement already satisfied: ipywidgets>=7.0.0 in /usr/local/lib/python3.9/dist-packages (from swifter) (7.7.1)\n",
            "Requirement already satisfied: cloudpickle>=0.2.2 in /usr/local/lib/python3.9/dist-packages (from swifter) (2.2.1)\n",
            "Requirement already satisfied: parso>0.4.0 in /usr/local/lib/python3.9/dist-packages (from swifter) (0.8.3)\n",
            "Requirement already satisfied: bleach>=3.1.1 in /usr/local/lib/python3.9/dist-packages (from swifter) (6.0.0)\n",
            "Requirement already satisfied: webencodings in /usr/local/lib/python3.9/dist-packages (from bleach>=3.1.1->swifter) (0.5.1)\n",
            "Requirement already satisfied: six>=1.9.0 in /usr/local/lib/python3.9/dist-packages (from bleach>=3.1.1->swifter) (1.16.0)\n",
            "Requirement already satisfied: partd>=0.3.10 in /usr/local/lib/python3.9/dist-packages (from dask[dataframe]>=2.10.0->swifter) (1.3.0)\n",
            "Requirement already satisfied: fsspec>=0.6.0 in /usr/local/lib/python3.9/dist-packages (from dask[dataframe]>=2.10.0->swifter) (2023.4.0)\n",
            "Requirement already satisfied: pyyaml>=5.3.1 in /usr/local/lib/python3.9/dist-packages (from dask[dataframe]>=2.10.0->swifter) (6.0)\n",
            "Requirement already satisfied: click>=7.0 in /usr/local/lib/python3.9/dist-packages (from dask[dataframe]>=2.10.0->swifter) (8.1.3)\n",
            "Requirement already satisfied: toolz>=0.8.2 in /usr/local/lib/python3.9/dist-packages (from dask[dataframe]>=2.10.0->swifter) (0.12.0)\n",
            "Requirement already satisfied: packaging>=20.0 in /usr/local/lib/python3.9/dist-packages (from dask[dataframe]>=2.10.0->swifter) (23.0)\n",
            "Requirement already satisfied: numpy>=1.18 in /usr/local/lib/python3.9/dist-packages (from dask[dataframe]>=2.10.0->swifter) (1.22.4)\n",
            "Requirement already satisfied: ipykernel>=4.5.1 in /usr/local/lib/python3.9/dist-packages (from ipywidgets>=7.0.0->swifter) (5.5.6)\n",
            "Requirement already satisfied: ipython-genutils~=0.2.0 in /usr/local/lib/python3.9/dist-packages (from ipywidgets>=7.0.0->swifter) (0.2.0)\n",
            "Requirement already satisfied: ipython>=4.0.0 in /usr/local/lib/python3.9/dist-packages (from ipywidgets>=7.0.0->swifter) (7.34.0)\n",
            "Requirement already satisfied: widgetsnbextension~=3.6.0 in /usr/local/lib/python3.9/dist-packages (from ipywidgets>=7.0.0->swifter) (3.6.4)\n",
            "Requirement already satisfied: jupyterlab-widgets>=1.0.0 in /usr/local/lib/python3.9/dist-packages (from ipywidgets>=7.0.0->swifter) (3.0.7)\n",
            "Requirement already satisfied: traitlets>=4.3.1 in /usr/local/lib/python3.9/dist-packages (from ipywidgets>=7.0.0->swifter) (5.7.1)\n",
            "Requirement already satisfied: pytz>=2020.1 in /usr/local/lib/python3.9/dist-packages (from pandas>=1.0.0->swifter) (2022.7.1)\n",
            "Requirement already satisfied: python-dateutil>=2.8.1 in /usr/local/lib/python3.9/dist-packages (from pandas>=1.0.0->swifter) (2.8.2)\n",
            "Requirement already satisfied: tornado>=4.2 in /usr/local/lib/python3.9/dist-packages (from ipykernel>=4.5.1->ipywidgets>=7.0.0->swifter) (6.2)\n",
            "Requirement already satisfied: jupyter-client in /usr/local/lib/python3.9/dist-packages (from ipykernel>=4.5.1->ipywidgets>=7.0.0->swifter) (6.1.12)\n",
            "Requirement already satisfied: pexpect>4.3 in /usr/local/lib/python3.9/dist-packages (from ipython>=4.0.0->ipywidgets>=7.0.0->swifter) (4.8.0)\n",
            "Requirement already satisfied: backcall in /usr/local/lib/python3.9/dist-packages (from ipython>=4.0.0->ipywidgets>=7.0.0->swifter) (0.2.0)\n",
            "Collecting jedi>=0.16\n",
            "  Downloading jedi-0.18.2-py2.py3-none-any.whl (1.6 MB)\n",
            "\u001b[2K     \u001b[90m━━━━━━━━━━━━━━━━━━━━━━━━━━━━━━━━━━━━━━━━\u001b[0m \u001b[32m1.6/1.6 MB\u001b[0m \u001b[31m61.4 MB/s\u001b[0m eta \u001b[36m0:00:00\u001b[0m\n",
            "\u001b[?25hRequirement already satisfied: pickleshare in /usr/local/lib/python3.9/dist-packages (from ipython>=4.0.0->ipywidgets>=7.0.0->swifter) (0.7.5)\n",
            "Requirement already satisfied: prompt-toolkit!=3.0.0,!=3.0.1,<3.1.0,>=2.0.0 in /usr/local/lib/python3.9/dist-packages (from ipython>=4.0.0->ipywidgets>=7.0.0->swifter) (3.0.38)\n",
            "Requirement already satisfied: pygments in /usr/local/lib/python3.9/dist-packages (from ipython>=4.0.0->ipywidgets>=7.0.0->swifter) (2.14.0)\n",
            "Requirement already satisfied: decorator in /usr/local/lib/python3.9/dist-packages (from ipython>=4.0.0->ipywidgets>=7.0.0->swifter) (4.4.2)\n",
            "Requirement already satisfied: matplotlib-inline in /usr/local/lib/python3.9/dist-packages (from ipython>=4.0.0->ipywidgets>=7.0.0->swifter) (0.1.6)\n",
            "Requirement already satisfied: setuptools>=18.5 in /usr/local/lib/python3.9/dist-packages (from ipython>=4.0.0->ipywidgets>=7.0.0->swifter) (67.6.1)\n",
            "Requirement already satisfied: locket in /usr/local/lib/python3.9/dist-packages (from partd>=0.3.10->dask[dataframe]>=2.10.0->swifter) (1.0.0)\n",
            "Requirement already satisfied: notebook>=4.4.1 in /usr/local/lib/python3.9/dist-packages (from widgetsnbextension~=3.6.0->ipywidgets>=7.0.0->swifter) (6.4.8)\n",
            "Requirement already satisfied: nbformat in /usr/local/lib/python3.9/dist-packages (from notebook>=4.4.1->widgetsnbextension~=3.6.0->ipywidgets>=7.0.0->swifter) (5.8.0)\n",
            "Requirement already satisfied: Send2Trash>=1.8.0 in /usr/local/lib/python3.9/dist-packages (from notebook>=4.4.1->widgetsnbextension~=3.6.0->ipywidgets>=7.0.0->swifter) (1.8.0)\n",
            "Requirement already satisfied: jupyter-core>=4.6.1 in /usr/local/lib/python3.9/dist-packages (from notebook>=4.4.1->widgetsnbextension~=3.6.0->ipywidgets>=7.0.0->swifter) (5.3.0)\n",
            "Requirement already satisfied: terminado>=0.8.3 in /usr/local/lib/python3.9/dist-packages (from notebook>=4.4.1->widgetsnbextension~=3.6.0->ipywidgets>=7.0.0->swifter) (0.17.1)\n",
            "Requirement already satisfied: prometheus-client in /usr/local/lib/python3.9/dist-packages (from notebook>=4.4.1->widgetsnbextension~=3.6.0->ipywidgets>=7.0.0->swifter) (0.16.0)\n",
            "Requirement already satisfied: nbconvert in /usr/local/lib/python3.9/dist-packages (from notebook>=4.4.1->widgetsnbextension~=3.6.0->ipywidgets>=7.0.0->swifter) (6.5.4)\n",
            "Requirement already satisfied: nest-asyncio>=1.5 in /usr/local/lib/python3.9/dist-packages (from notebook>=4.4.1->widgetsnbextension~=3.6.0->ipywidgets>=7.0.0->swifter) (1.5.6)\n",
            "Requirement already satisfied: argon2-cffi in /usr/local/lib/python3.9/dist-packages (from notebook>=4.4.1->widgetsnbextension~=3.6.0->ipywidgets>=7.0.0->swifter) (21.3.0)\n",
            "Requirement already satisfied: jinja2 in /usr/local/lib/python3.9/dist-packages (from notebook>=4.4.1->widgetsnbextension~=3.6.0->ipywidgets>=7.0.0->swifter) (3.1.2)\n",
            "Requirement already satisfied: pyzmq>=17 in /usr/local/lib/python3.9/dist-packages (from notebook>=4.4.1->widgetsnbextension~=3.6.0->ipywidgets>=7.0.0->swifter) (23.2.1)\n",
            "Requirement already satisfied: ptyprocess>=0.5 in /usr/local/lib/python3.9/dist-packages (from pexpect>4.3->ipython>=4.0.0->ipywidgets>=7.0.0->swifter) (0.7.0)\n",
            "Requirement already satisfied: wcwidth in /usr/local/lib/python3.9/dist-packages (from prompt-toolkit!=3.0.0,!=3.0.1,<3.1.0,>=2.0.0->ipython>=4.0.0->ipywidgets>=7.0.0->swifter) (0.2.6)\n",
            "Requirement already satisfied: platformdirs>=2.5 in /usr/local/lib/python3.9/dist-packages (from jupyter-core>=4.6.1->notebook>=4.4.1->widgetsnbextension~=3.6.0->ipywidgets>=7.0.0->swifter) (3.2.0)\n",
            "Requirement already satisfied: argon2-cffi-bindings in /usr/local/lib/python3.9/dist-packages (from argon2-cffi->notebook>=4.4.1->widgetsnbextension~=3.6.0->ipywidgets>=7.0.0->swifter) (21.2.0)\n",
            "Requirement already satisfied: MarkupSafe>=2.0 in /usr/local/lib/python3.9/dist-packages (from jinja2->notebook>=4.4.1->widgetsnbextension~=3.6.0->ipywidgets>=7.0.0->swifter) (2.1.2)\n",
            "Requirement already satisfied: lxml in /usr/local/lib/python3.9/dist-packages (from nbconvert->notebook>=4.4.1->widgetsnbextension~=3.6.0->ipywidgets>=7.0.0->swifter) (4.9.2)\n",
            "Requirement already satisfied: nbclient>=0.5.0 in /usr/local/lib/python3.9/dist-packages (from nbconvert->notebook>=4.4.1->widgetsnbextension~=3.6.0->ipywidgets>=7.0.0->swifter) (0.7.3)\n",
            "Requirement already satisfied: entrypoints>=0.2.2 in /usr/local/lib/python3.9/dist-packages (from nbconvert->notebook>=4.4.1->widgetsnbextension~=3.6.0->ipywidgets>=7.0.0->swifter) (0.4)\n",
            "Requirement already satisfied: mistune<2,>=0.8.1 in /usr/local/lib/python3.9/dist-packages (from nbconvert->notebook>=4.4.1->widgetsnbextension~=3.6.0->ipywidgets>=7.0.0->swifter) (0.8.4)\n",
            "Requirement already satisfied: pandocfilters>=1.4.1 in /usr/local/lib/python3.9/dist-packages (from nbconvert->notebook>=4.4.1->widgetsnbextension~=3.6.0->ipywidgets>=7.0.0->swifter) (1.5.0)\n",
            "Requirement already satisfied: defusedxml in /usr/local/lib/python3.9/dist-packages (from nbconvert->notebook>=4.4.1->widgetsnbextension~=3.6.0->ipywidgets>=7.0.0->swifter) (0.7.1)\n",
            "Requirement already satisfied: jupyterlab-pygments in /usr/local/lib/python3.9/dist-packages (from nbconvert->notebook>=4.4.1->widgetsnbextension~=3.6.0->ipywidgets>=7.0.0->swifter) (0.2.2)\n",
            "Requirement already satisfied: tinycss2 in /usr/local/lib/python3.9/dist-packages (from nbconvert->notebook>=4.4.1->widgetsnbextension~=3.6.0->ipywidgets>=7.0.0->swifter) (1.2.1)\n",
            "Requirement already satisfied: beautifulsoup4 in /usr/local/lib/python3.9/dist-packages (from nbconvert->notebook>=4.4.1->widgetsnbextension~=3.6.0->ipywidgets>=7.0.0->swifter) (4.11.2)\n",
            "Requirement already satisfied: jsonschema>=2.6 in /usr/local/lib/python3.9/dist-packages (from nbformat->notebook>=4.4.1->widgetsnbextension~=3.6.0->ipywidgets>=7.0.0->swifter) (4.3.3)\n",
            "Requirement already satisfied: fastjsonschema in /usr/local/lib/python3.9/dist-packages (from nbformat->notebook>=4.4.1->widgetsnbextension~=3.6.0->ipywidgets>=7.0.0->swifter) (2.16.3)\n",
            "Requirement already satisfied: pyrsistent!=0.17.0,!=0.17.1,!=0.17.2,>=0.14.0 in /usr/local/lib/python3.9/dist-packages (from jsonschema>=2.6->nbformat->notebook>=4.4.1->widgetsnbextension~=3.6.0->ipywidgets>=7.0.0->swifter) (0.19.3)\n",
            "Requirement already satisfied: attrs>=17.4.0 in /usr/local/lib/python3.9/dist-packages (from jsonschema>=2.6->nbformat->notebook>=4.4.1->widgetsnbextension~=3.6.0->ipywidgets>=7.0.0->swifter) (22.2.0)\n",
            "Requirement already satisfied: cffi>=1.0.1 in /usr/local/lib/python3.9/dist-packages (from argon2-cffi-bindings->argon2-cffi->notebook>=4.4.1->widgetsnbextension~=3.6.0->ipywidgets>=7.0.0->swifter) (1.15.1)\n",
            "Requirement already satisfied: soupsieve>1.2 in /usr/local/lib/python3.9/dist-packages (from beautifulsoup4->nbconvert->notebook>=4.4.1->widgetsnbextension~=3.6.0->ipywidgets>=7.0.0->swifter) (2.4)\n",
            "Requirement already satisfied: pycparser in /usr/local/lib/python3.9/dist-packages (from cffi>=1.0.1->argon2-cffi-bindings->argon2-cffi->notebook>=4.4.1->widgetsnbextension~=3.6.0->ipywidgets>=7.0.0->swifter) (2.21)\n",
            "Building wheels for collected packages: swifter\n",
            "  Building wheel for swifter (setup.py) ... \u001b[?25l\u001b[?25hdone\n",
            "  Created wheel for swifter: filename=swifter-1.3.4-py3-none-any.whl size=16321 sha256=24361f834bd131a7772513d019d82fdf0fbf70c1c5643495596710beb6371b72\n",
            "  Stored in directory: /root/.cache/pip/wheels/2b/5e/f2/3931524f702ffd03309e96d35ee2fbf9c61c27377511ee8d4c\n",
            "Successfully built swifter\n",
            "Installing collected packages: jedi, swifter\n",
            "Successfully installed jedi-0.18.2 swifter-1.3.4\n"
          ]
        },
        {
          "name": "stderr",
          "output_type": "stream",
          "text": [
            "<ipython-input-1-f8251452d34d>:10: FutureWarning: The error_bad_lines argument has been deprecated and will be removed in a future version. Use on_bad_lines in the future.\n",
            "\n",
            "\n",
            "  educacao_2020 = pd.read_csv(\n"
          ]
        }
      ],
      "source": [
        "from google.colab import drive\n",
        "drive.mount('/content/drive')\n",
        "import numpy as np\n",
        "import pandas as pd\n",
        "!pip install swifter\n",
        "from sklearn.linear_model import LinearRegression\n",
        "from sklearn.utils import shuffle\n",
        "import pandas as pd\n",
        "\n",
        "educacao_2020 = pd.read_csv(\n",
        "   '/content/drive/MyDrive/MICRODADOS_ENEM_2020.csv', \n",
        "    error_bad_lines=False, \n",
        "    sep = \";\", \n",
        "    encoding = 'ISO-8859-1',\n",
        "   usecols=[\"NU_NOTA_MT\", \"NU_NOTA_LC\", \"NU_NOTA_CH\", \"NU_NOTA_CN\", \"TP_SEXO\", \"TP_COR_RACA\", \"Q001\", \"Q002\",]\n",
        ") \n",
        "\n",
        "# Transforma a variável TP_SEXO em binária\n",
        "educacao_2020 = pd.get_dummies(educacao_2020, columns=['TP_SEXO'])\n",
        "\n",
        "# Transforma a variável TP_COR_RACA em categórica\n",
        "educacao_2020['TP_COR_RACA'] = educacao_2020['TP_COR_RACA'].replace({\n",
        "    0: 'nao_declarado',\n",
        "    1: 'branco',\n",
        "    2: 'preto',\n",
        "    3: 'pardo',\n",
        "    4: 'amarelo',\n",
        "    5: 'indigena'\n",
        "})\n",
        "\n",
        "# Remove as linhas com valores faltantes\n",
        "educacao_2020 = educacao_2020.dropna()\n",
        "\n",
        "# Carrega o dataframe de 2011\n",
        "educacao_2011 = pd.read_csv('/content/drive/MyDrive/MICRODADOS_ENEM_2011.csv', sep=';', encoding='ISO-8859-1', usecols=['NU_NOTA_MT', 'NU_NOTA_LC', 'NU_NOTA_CH', 'NU_NOTA_CN', 'TP_SEXO', 'TP_COR_RACA', 'Q002', 'Q003'])\n",
        "\n",
        "# Transforma a variável TP_SEXO em binária\n",
        "educacao_2011 = pd.get_dummies(educacao_2011, columns=['TP_SEXO'])\n",
        "\n",
        "# Transforma a variável TP_COR_RACA em categórica\n",
        "educacao_2011['TP_COR_RACA'] = educacao_2011['TP_COR_RACA'].replace({\n",
        "    0: 'nao_declarado',\n",
        "    1: 'branco',\n",
        "    2: 'preto',\n",
        "    3: 'pardo',\n",
        "    4: 'amarelo',\n",
        "    5: 'indigena'\n",
        "})\n",
        "\n",
        "# Remove as linhas com valores faltantes\n",
        "educacao_2011 = educacao_2011.dropna()\n",
        "\n",
        "# Carrega o dataframe de 2018\n",
        "educacao_2018 = pd.read_csv('/content/drive/MyDrive/MICRODADOS_ENEM_2018.csv', sep=';', encoding='ISO-8859-1', usecols=['NU_NOTA_MT', 'NU_NOTA_LC', 'NU_NOTA_CH', 'NU_NOTA_CN', 'TP_SEXO', 'TP_COR_RACA', 'Q001', 'Q002'])\n",
        "\n",
        "# Transforma a variável TP_SEXO em binária\n",
        "educacao_2018 = pd.get_dummies(educacao_2018, columns=['TP_SEXO'])\n",
        "\n",
        "# Transforma a variável TP_COR_RACA em categórica\n",
        "educacao_2018['TP_COR_RACA'] = educacao_2018['TP_COR_RACA'].replace({\n",
        "    0: 'nao_declarado',\n",
        "    1: 'branco',\n",
        "    2: 'preto',\n",
        "    3: 'pardo',\n",
        "    4: 'amarelo',\n",
        "    5: 'indigena'\n",
        "})\n",
        "\n",
        "# Remove as linhas com valores faltantes\n",
        "educacao_2018 = educacao_2018.dropna()\n",
        "\n",
        "\n"
      ]
    },
    {
      "cell_type": "markdown",
      "metadata": {
        "id": "CsvuFHb9P2Hm"
      },
      "source": [
        "educacao_total.fillna(educacao.mean(), inplace=True)\n",
        "educacao_total.fillna(educacao.mean(), inplace=True)\n"
      ]
    },
    {
      "cell_type": "code",
      "execution_count": null,
      "metadata": {
        "id": "FJjrK-3MI5a-"
      },
      "outputs": [],
      "source": [
        "educacao_total = pd.concat([educacao_2011, educacao_2018, educacao_2020])\n"
      ]
    },
    {
      "cell_type": "code",
      "execution_count": null,
      "metadata": {
        "id": "_l84PVNPKO12"
      },
      "outputs": [],
      "source": [
        "educacao_total = educacao_total[(educacao_total['TP_COR_RACA'].isin(['indigena', 'preto'])) & (educacao_total['Q002'].isin(['E', 'F', 'G'])) & (educacao_total['TP_SEXO'] == 'F')]\n"
      ]
    },
    {
      "cell_type": "code",
      "execution_count": null,
      "metadata": {
        "colab": {
          "base_uri": "https://localhost:8080/",
          "height": 183
        },
        "id": "hZ0x8PXzQK3e",
        "outputId": "82995cee-0706-4c12-b4a8-b362699c6400"
      },
      "outputs": [
        {
          "ename": "NameError",
          "evalue": "ignored",
          "output_type": "error",
          "traceback": [
            "\u001b[0;31m---------------------------------------------------------------------------\u001b[0m",
            "\u001b[0;31mNameError\u001b[0m                                 Traceback (most recent call last)",
            "\u001b[0;32m<ipython-input-6-99bcb8b098ed>\u001b[0m in \u001b[0;36m<cell line: 1>\u001b[0;34m()\u001b[0m\n\u001b[0;32m----> 1\u001b[0;31m \u001b[0meducacao_total\u001b[0m\u001b[0;34m.\u001b[0m\u001b[0mfillna\u001b[0m\u001b[0;34m(\u001b[0m\u001b[0meducacao\u001b[0m\u001b[0;34m.\u001b[0m\u001b[0mmean\u001b[0m\u001b[0;34m(\u001b[0m\u001b[0;34m)\u001b[0m\u001b[0;34m,\u001b[0m \u001b[0minplace\u001b[0m\u001b[0;34m=\u001b[0m\u001b[0;32mTrue\u001b[0m\u001b[0;34m)\u001b[0m\u001b[0;34m\u001b[0m\u001b[0;34m\u001b[0m\u001b[0m\n\u001b[0m\u001b[1;32m      2\u001b[0m \u001b[0meducacao_total\u001b[0m\u001b[0;34m.\u001b[0m\u001b[0mfillna\u001b[0m\u001b[0;34m(\u001b[0m\u001b[0meducacao\u001b[0m\u001b[0;34m.\u001b[0m\u001b[0mmean\u001b[0m\u001b[0;34m(\u001b[0m\u001b[0;34m)\u001b[0m\u001b[0;34m,\u001b[0m \u001b[0minplace\u001b[0m\u001b[0;34m=\u001b[0m\u001b[0;32mTrue\u001b[0m\u001b[0;34m)\u001b[0m\u001b[0;34m\u001b[0m\u001b[0;34m\u001b[0m\u001b[0m\n",
            "\u001b[0;31mNameError\u001b[0m: name 'educacao' is not defined"
          ]
        }
      ],
      "source": [
        "educacao_total.fillna(educacao.mean(), inplace=True)\n",
        "educacao_total.fillna(educacao.mean(), inplace=True)"
      ]
    },
    {
      "cell_type": "code",
      "execution_count": null,
      "metadata": {
        "id": "roxb52tNKSkl"
      },
      "outputs": [],
      "source": [
        "from sklearn.model_selection import train_test_split\n",
        "\n",
        "X = educacao_total[['NU_NOTA_MT', 'NU_NOTA_LC', 'NU_NOTA_CH', 'NU_NOTA_CN']]\n",
        "y = educacao_total['NU_NOTA_MT']\n",
        "\n",
        "X_train, X_test, y_train, y_test = train_test_split(X, y, test_size=0.2, random_state=42)\n"
      ]
    },
    {
      "cell_type": "code",
      "execution_count": null,
      "metadata": {
        "id": "KSdalebOKU9e"
      },
      "outputs": [],
      "source": [
        "from sklearn.preprocessing import StandardScaler\n",
        "\n",
        "scaler = StandardScaler()\n",
        "X_train = scaler.fit_transform(X_train)\n",
        "X_test = scaler.transform(X_test)\n"
      ]
    },
    {
      "cell_type": "code",
      "execution_count": null,
      "metadata": {
        "id": "51yDB98MKXhy"
      },
      "outputs": [],
      "source": [
        "from keras.models import Sequential\n",
        "from keras.layers import Dense\n",
        "\n",
        "model = Sequential()\n",
        "model.add(Dense(10, input_dim=4, activation='relu'))\n",
        "model.add(Dense(1, activation='linear'))\n"
      ]
    },
    {
      "cell_type": "code",
      "execution_count": null,
      "metadata": {
        "id": "1V8d7l4dKbPs"
      },
      "outputs": [],
      "source": [
        "model.compile(loss='mean_squared_error', optimizer='adam', metrics=['mae'])\n"
      ]
    },
    {
      "cell_type": "code",
      "execution_count": null,
      "metadata": {
        "colab": {
          "base_uri": "https://localhost:8080/"
        },
        "id": "WaNQaF04KdID",
        "outputId": "d0cc7a10-b2ef-4ecc-d3a6-25b402831b68"
      },
      "outputs": [
        {
          "name": "stdout",
          "output_type": "stream",
          "text": [
            "Epoch 1/100\n",
            "5235/5235 [==============================] - 30s 6ms/step - loss: 122183.1875 - mae: 310.7499 - val_loss: 28828.4961 - val_mae: 147.4801\n",
            "Epoch 2/100\n",
            "5235/5235 [==============================] - 12s 2ms/step - loss: 8568.3301 - mae: 63.1730 - val_loss: 214.1857 - val_mae: 6.6096\n",
            "Epoch 3/100\n",
            "5235/5235 [==============================] - 12s 2ms/step - loss: 58.2519 - mae: 1.7031 - val_loss: 3.0392 - val_mae: 0.1198\n",
            "Epoch 4/100\n",
            "5235/5235 [==============================] - 12s 2ms/step - loss: 7.7944 - mae: 0.1127 - val_loss: 0.8601 - val_mae: 0.0066\n",
            "Epoch 5/100\n",
            "5235/5235 [==============================] - 12s 2ms/step - loss: 2.8428 - mae: 0.0370 - val_loss: 0.2120 - val_mae: 0.0030\n",
            "Epoch 6/100\n",
            "5235/5235 [==============================] - 12s 2ms/step - loss: 0.9425 - mae: 0.0221 - val_loss: 0.0292 - val_mae: 0.0013\n",
            "Epoch 7/100\n",
            "5235/5235 [==============================] - 12s 2ms/step - loss: 0.3361 - mae: 0.0262 - val_loss: 0.0248 - val_mae: 0.0011\n",
            "Epoch 8/100\n",
            "5235/5235 [==============================] - 13s 2ms/step - loss: 0.1897 - mae: 0.0286 - val_loss: 0.0240 - val_mae: 0.0028\n",
            "Epoch 9/100\n",
            "5235/5235 [==============================] - 12s 2ms/step - loss: 0.1401 - mae: 0.0258 - val_loss: 0.0109 - val_mae: 7.0596e-04\n",
            "Epoch 10/100\n",
            "5235/5235 [==============================] - 11s 2ms/step - loss: 0.1102 - mae: 0.0230 - val_loss: 0.0101 - val_mae: 0.0014\n",
            "Epoch 11/100\n",
            "5235/5235 [==============================] - 11s 2ms/step - loss: 0.0818 - mae: 0.0219 - val_loss: 0.0062 - val_mae: 0.0326\n",
            "Epoch 12/100\n",
            "5235/5235 [==============================] - 13s 2ms/step - loss: 0.0643 - mae: 0.0211 - val_loss: 0.0156 - val_mae: 0.0864\n",
            "Epoch 13/100\n",
            "5235/5235 [==============================] - 12s 2ms/step - loss: 0.0457 - mae: 0.0166 - val_loss: 0.0063 - val_mae: 0.0093\n",
            "Epoch 14/100\n",
            "5235/5235 [==============================] - 12s 2ms/step - loss: 0.0324 - mae: 0.0155 - val_loss: 0.0068 - val_mae: 0.0010\n",
            "Epoch 15/100\n",
            "5235/5235 [==============================] - 15s 3ms/step - loss: 0.0263 - mae: 0.0174 - val_loss: 0.0024 - val_mae: 7.4381e-04\n",
            "Epoch 16/100\n",
            "5235/5235 [==============================] - 12s 2ms/step - loss: 0.0206 - mae: 0.0156 - val_loss: 0.0016 - val_mae: 9.9113e-04\n",
            "Epoch 17/100\n",
            "5235/5235 [==============================] - 12s 2ms/step - loss: 0.0147 - mae: 0.0126 - val_loss: 0.0034 - val_mae: 0.0017\n",
            "Epoch 18/100\n",
            "5235/5235 [==============================] - 12s 2ms/step - loss: 0.0123 - mae: 0.0138 - val_loss: 8.7390e-04 - val_mae: 2.2159e-04\n",
            "Epoch 19/100\n",
            "5235/5235 [==============================] - 13s 2ms/step - loss: 0.0102 - mae: 0.0108 - val_loss: 5.6388e-04 - val_mae: 2.2093e-04\n",
            "Epoch 20/100\n",
            "5235/5235 [==============================] - 12s 2ms/step - loss: 0.0094 - mae: 0.0130 - val_loss: 0.0010 - val_mae: 0.0045\n",
            "Epoch 21/100\n",
            "5235/5235 [==============================] - 12s 2ms/step - loss: 0.0078 - mae: 0.0111 - val_loss: 7.0534e-04 - val_mae: 4.7470e-04\n",
            "Epoch 22/100\n",
            "5235/5235 [==============================] - 11s 2ms/step - loss: 0.0063 - mae: 0.0120 - val_loss: 0.0016 - val_mae: 0.0277\n",
            "Epoch 23/100\n",
            "5235/5235 [==============================] - 12s 2ms/step - loss: 0.0060 - mae: 0.0099 - val_loss: 0.0110 - val_mae: 0.0842\n",
            "Epoch 24/100\n",
            "5235/5235 [==============================] - 13s 3ms/step - loss: 0.0058 - mae: 0.0118 - val_loss: 0.0088 - val_mae: 0.0772\n",
            "Epoch 25/100\n",
            "5235/5235 [==============================] - 12s 2ms/step - loss: 0.0037 - mae: 0.0091 - val_loss: 7.6477e-04 - val_mae: 0.0064\n",
            "Epoch 26/100\n",
            "5235/5235 [==============================] - 13s 3ms/step - loss: 0.0044 - mae: 0.0109 - val_loss: 4.7788e-04 - val_mae: 1.7451e-04\n",
            "Epoch 27/100\n",
            "5235/5235 [==============================] - 13s 3ms/step - loss: 0.0033 - mae: 0.0090 - val_loss: 3.8439e-04 - val_mae: 0.0024\n",
            "Epoch 28/100\n",
            "5235/5235 [==============================] - 12s 2ms/step - loss: 0.0027 - mae: 0.0091 - val_loss: 7.8896e-04 - val_mae: 0.0052\n",
            "Epoch 29/100\n",
            "5235/5235 [==============================] - 12s 2ms/step - loss: 0.0026 - mae: 0.0089 - val_loss: 5.8002e-04 - val_mae: 0.0038\n",
            "Epoch 30/100\n",
            "5235/5235 [==============================] - 13s 2ms/step - loss: 0.0022 - mae: 0.0095 - val_loss: 9.2010e-04 - val_mae: 0.0151\n",
            "Epoch 31/100\n",
            "5235/5235 [==============================] - 13s 2ms/step - loss: 0.0022 - mae: 0.0091 - val_loss: 1.4286e-04 - val_mae: 1.0532e-04\n",
            "Epoch 32/100\n",
            "5235/5235 [==============================] - 13s 3ms/step - loss: 0.0020 - mae: 0.0101 - val_loss: 2.1842e-04 - val_mae: 0.0059\n",
            "Epoch 33/100\n",
            "5235/5235 [==============================] - 13s 2ms/step - loss: 0.0014 - mae: 0.0085 - val_loss: 2.1814e-04 - val_mae: 0.0011\n",
            "Epoch 34/100\n",
            "5235/5235 [==============================] - 12s 2ms/step - loss: 0.0017 - mae: 0.0097 - val_loss: 3.7436e-04 - val_mae: 1.5648e-04\n",
            "Epoch 35/100\n",
            "5235/5235 [==============================] - 11s 2ms/step - loss: 0.0017 - mae: 0.0088 - val_loss: 9.4831e-05 - val_mae: 8.3301e-05\n",
            "Epoch 36/100\n",
            "5235/5235 [==============================] - 12s 2ms/step - loss: 0.0014 - mae: 0.0081 - val_loss: 1.0784e-04 - val_mae: 8.8033e-05\n",
            "Epoch 37/100\n",
            "5235/5235 [==============================] - 12s 2ms/step - loss: 0.0010 - mae: 0.0087 - val_loss: 3.2121e-04 - val_mae: 1.6345e-04\n",
            "Epoch 38/100\n",
            "5235/5235 [==============================] - 12s 2ms/step - loss: 0.0014 - mae: 0.0093 - val_loss: 2.9912e-04 - val_mae: 0.0130\n",
            "Epoch 39/100\n",
            "5235/5235 [==============================] - 13s 3ms/step - loss: 0.0010 - mae: 0.0079 - val_loss: 2.1147e-04 - val_mae: 1.4299e-04\n",
            "Epoch 40/100\n",
            "5235/5235 [==============================] - 12s 2ms/step - loss: 0.0010 - mae: 0.0092 - val_loss: 2.1635e-04 - val_mae: 1.2593e-04\n",
            "Epoch 41/100\n",
            "5235/5235 [==============================] - 12s 2ms/step - loss: 0.0011 - mae: 0.0096 - val_loss: 6.3604e-05 - val_mae: 7.5879e-05\n",
            "Epoch 42/100\n",
            "5235/5235 [==============================] - 13s 2ms/step - loss: 0.0011 - mae: 0.0093 - val_loss: 1.3027e-04 - val_mae: 1.0153e-04\n",
            "Epoch 43/100\n",
            "5235/5235 [==============================] - 13s 3ms/step - loss: 8.9356e-04 - mae: 0.0072 - val_loss: 1.3381e-04 - val_mae: 0.0011\n",
            "Epoch 44/100\n",
            "5235/5235 [==============================] - 13s 3ms/step - loss: 0.0012 - mae: 0.0078 - val_loss: 2.6368e-05 - val_mae: 7.7847e-05\n",
            "Epoch 45/100\n",
            "5235/5235 [==============================] - 13s 2ms/step - loss: 9.1158e-04 - mae: 0.0085 - val_loss: 1.3797e-04 - val_mae: 0.0040\n",
            "Epoch 46/100\n",
            "5235/5235 [==============================] - 13s 2ms/step - loss: 8.1085e-04 - mae: 0.0081 - val_loss: 2.5427e-04 - val_mae: 1.7063e-04\n",
            "Epoch 47/100\n",
            "5235/5235 [==============================] - 12s 2ms/step - loss: 9.2239e-04 - mae: 0.0091 - val_loss: 1.3480e-04 - val_mae: 1.1099e-04\n",
            "Epoch 48/100\n",
            "5235/5235 [==============================] - 12s 2ms/step - loss: 8.8418e-04 - mae: 0.0093 - val_loss: 2.3433e-04 - val_mae: 0.0032\n",
            "Epoch 49/100\n",
            "5235/5235 [==============================] - 12s 2ms/step - loss: 7.6335e-04 - mae: 0.0077 - val_loss: 1.0623e-04 - val_mae: 1.0005e-04\n",
            "Epoch 50/100\n",
            "5235/5235 [==============================] - 13s 2ms/step - loss: 9.1909e-04 - mae: 0.0084 - val_loss: 1.4878e-04 - val_mae: 0.0032\n",
            "Epoch 51/100\n",
            "5235/5235 [==============================] - 13s 2ms/step - loss: 7.0532e-04 - mae: 0.0071 - val_loss: 5.3662e-05 - val_mae: 0.0012\n",
            "Epoch 52/100\n",
            "5235/5235 [==============================] - 13s 3ms/step - loss: 7.6849e-04 - mae: 0.0085 - val_loss: 0.0088 - val_mae: 0.0810\n",
            "Epoch 53/100\n",
            "5235/5235 [==============================] - 12s 2ms/step - loss: 9.6451e-04 - mae: 0.0091 - val_loss: 3.7625e-05 - val_mae: 5.1549e-04\n",
            "Epoch 54/100\n",
            "5235/5235 [==============================] - 11s 2ms/step - loss: 6.2112e-04 - mae: 0.0066 - val_loss: 9.1622e-05 - val_mae: 1.9502e-04\n",
            "Epoch 55/100\n",
            "5235/5235 [==============================] - 11s 2ms/step - loss: 9.3892e-04 - mae: 0.0083 - val_loss: 9.1057e-06 - val_mae: 6.8683e-05\n",
            "Epoch 56/100\n",
            "5235/5235 [==============================] - 12s 2ms/step - loss: 5.4524e-04 - mae: 0.0067 - val_loss: 1.7631e-05 - val_mae: 7.6031e-05\n",
            "Epoch 57/100\n",
            "5235/5235 [==============================] - 13s 2ms/step - loss: 8.3056e-04 - mae: 0.0089 - val_loss: 1.8922e-05 - val_mae: 1.2934e-04\n",
            "Epoch 58/100\n",
            "5235/5235 [==============================] - 12s 2ms/step - loss: 5.5599e-04 - mae: 0.0073 - val_loss: 0.0023 - val_mae: 0.0378\n",
            "Epoch 59/100\n",
            "5235/5235 [==============================] - 11s 2ms/step - loss: 7.3756e-04 - mae: 0.0075 - val_loss: 2.1350e-04 - val_mae: 0.0100\n",
            "Epoch 60/100\n",
            "5235/5235 [==============================] - 12s 2ms/step - loss: 7.1196e-04 - mae: 0.0078 - val_loss: 2.5602e-05 - val_mae: 3.6318e-04\n",
            "Epoch 61/100\n",
            "5235/5235 [==============================] - 12s 2ms/step - loss: 7.3462e-04 - mae: 0.0073 - val_loss: 1.1590e-05 - val_mae: 3.5935e-04\n",
            "Epoch 62/100\n",
            "5235/5235 [==============================] - 13s 2ms/step - loss: 5.1210e-04 - mae: 0.0070 - val_loss: 3.8818e-06 - val_mae: 1.0429e-04\n",
            "Epoch 63/100\n",
            "5235/5235 [==============================] - 12s 2ms/step - loss: 6.8618e-04 - mae: 0.0071 - val_loss: 7.9101e-07 - val_mae: 5.6859e-05\n",
            "Epoch 64/100\n",
            "5235/5235 [==============================] - 12s 2ms/step - loss: 3.7958e-04 - mae: 0.0061 - val_loss: 8.4346e-04 - val_mae: 0.0245\n",
            "Epoch 65/100\n",
            "5235/5235 [==============================] - 13s 3ms/step - loss: 5.2632e-04 - mae: 0.0075 - val_loss: 4.5635e-04 - val_mae: 0.0167\n",
            "Epoch 66/100\n",
            "5235/5235 [==============================] - 12s 2ms/step - loss: 6.7614e-04 - mae: 0.0066 - val_loss: 9.1960e-06 - val_mae: 0.0023\n",
            "Epoch 67/100\n",
            "5235/5235 [==============================] - 13s 2ms/step - loss: 4.5199e-04 - mae: 0.0076 - val_loss: 4.2828e-04 - val_mae: 0.0165\n",
            "Epoch 68/100\n",
            "5235/5235 [==============================] - 13s 3ms/step - loss: 4.6266e-04 - mae: 0.0082 - val_loss: 1.5987e-04 - val_mae: 0.0096\n",
            "Epoch 69/100\n",
            "5235/5235 [==============================] - 13s 3ms/step - loss: 4.9768e-04 - mae: 0.0070 - val_loss: 4.0101e-06 - val_mae: 6.7745e-05\n",
            "Epoch 70/100\n",
            "5235/5235 [==============================] - 13s 2ms/step - loss: 4.5015e-04 - mae: 0.0060 - val_loss: 2.0816e-06 - val_mae: 0.0010\n",
            "Epoch 71/100\n",
            "5235/5235 [==============================] - 12s 2ms/step - loss: 3.3780e-04 - mae: 0.0060 - val_loss: 1.3921e-05 - val_mae: 6.4665e-04\n",
            "Epoch 72/100\n",
            "5235/5235 [==============================] - 12s 2ms/step - loss: 5.1767e-04 - mae: 0.0059 - val_loss: 1.4783e-05 - val_mae: 1.3909e-04\n",
            "Epoch 73/100\n",
            "5235/5235 [==============================] - 12s 2ms/step - loss: 5.2354e-04 - mae: 0.0073 - val_loss: 1.1381e-06 - val_mae: 8.7567e-05\n",
            "Epoch 74/100\n",
            "5235/5235 [==============================] - 12s 2ms/step - loss: 2.5051e-04 - mae: 0.0054 - val_loss: 1.0926e-07 - val_mae: 2.8651e-04\n",
            "Epoch 75/100\n",
            "5235/5235 [==============================] - 13s 3ms/step - loss: 5.4168e-04 - mae: 0.0072 - val_loss: 2.2881e-09 - val_mae: 1.8146e-05\n",
            "Epoch 76/100\n",
            "5235/5235 [==============================] - 12s 2ms/step - loss: 2.0857e-04 - mae: 0.0041 - val_loss: 3.5393e-06 - val_mae: 0.0015\n",
            "Epoch 77/100\n",
            "5235/5235 [==============================] - 13s 2ms/step - loss: 3.4828e-04 - mae: 0.0069 - val_loss: 4.1590e-04 - val_mae: 0.0193\n",
            "Epoch 78/100\n",
            "5235/5235 [==============================] - 12s 2ms/step - loss: 3.7971e-04 - mae: 0.0078 - val_loss: 1.4459e-04 - val_mae: 0.0095\n",
            "Epoch 79/100\n",
            "5235/5235 [==============================] - 12s 2ms/step - loss: 3.6296e-04 - mae: 0.0057 - val_loss: 3.2897e-05 - val_mae: 0.0051\n",
            "Epoch 80/100\n",
            "5235/5235 [==============================] - 13s 2ms/step - loss: 2.3194e-04 - mae: 0.0050 - val_loss: 7.8095e-06 - val_mae: 0.0026\n",
            "Epoch 81/100\n",
            "5235/5235 [==============================] - 12s 2ms/step - loss: 4.4481e-04 - mae: 0.0066 - val_loss: 5.0643e-07 - val_mae: 5.1549e-05\n",
            "Epoch 82/100\n",
            "5235/5235 [==============================] - 13s 2ms/step - loss: 2.4521e-04 - mae: 0.0059 - val_loss: 1.9484e-06 - val_mae: 0.0011\n",
            "Epoch 83/100\n",
            "5235/5235 [==============================] - 12s 2ms/step - loss: 4.4388e-04 - mae: 0.0061 - val_loss: 7.0415e-08 - val_mae: 1.9952e-04\n",
            "Epoch 84/100\n",
            "5235/5235 [==============================] - 12s 2ms/step - loss: 2.2850e-04 - mae: 0.0064 - val_loss: 5.6400e-04 - val_mae: 0.0193\n",
            "Epoch 85/100\n",
            "5235/5235 [==============================] - 12s 2ms/step - loss: 4.3702e-04 - mae: 0.0066 - val_loss: 9.5253e-05 - val_mae: 0.0016\n",
            "Epoch 86/100\n",
            "5235/5235 [==============================] - 12s 2ms/step - loss: 3.3306e-04 - mae: 0.0054 - val_loss: 7.6753e-04 - val_mae: 0.0235\n",
            "Epoch 87/100\n",
            "5235/5235 [==============================] - 14s 3ms/step - loss: 3.1391e-04 - mae: 0.0068 - val_loss: 7.2701e-07 - val_mae: 2.0166e-04\n",
            "Epoch 88/100\n",
            "5235/5235 [==============================] - 13s 3ms/step - loss: 3.7609e-04 - mae: 0.0057 - val_loss: 0.0030 - val_mae: 0.0437\n",
            "Epoch 89/100\n",
            "5235/5235 [==============================] - 14s 3ms/step - loss: 3.0611e-04 - mae: 0.0068 - val_loss: 1.4966e-06 - val_mae: 7.4385e-04\n",
            "Epoch 90/100\n",
            "5235/5235 [==============================] - 12s 2ms/step - loss: 3.1128e-04 - mae: 0.0063 - val_loss: 8.8227e-05 - val_mae: 0.0083\n",
            "Epoch 91/100\n",
            "5235/5235 [==============================] - 12s 2ms/step - loss: 3.0052e-04 - mae: 0.0075 - val_loss: 1.5798e-06 - val_mae: 1.0568e-04\n",
            "Epoch 92/100\n",
            "5235/5235 [==============================] - 12s 2ms/step - loss: 3.1055e-04 - mae: 0.0060 - val_loss: 0.0010 - val_mae: 0.0260\n",
            "Epoch 93/100\n",
            "5235/5235 [==============================] - 12s 2ms/step - loss: 3.7313e-04 - mae: 0.0062 - val_loss: 4.3018e-06 - val_mae: 2.6238e-04\n",
            "Epoch 94/100\n",
            "5235/5235 [==============================] - 12s 2ms/step - loss: 2.2388e-04 - mae: 0.0063 - val_loss: 5.0916e-04 - val_mae: 0.0184\n",
            "Epoch 95/100\n",
            "5235/5235 [==============================] - 13s 3ms/step - loss: 3.2371e-04 - mae: 0.0066 - val_loss: 2.1715e-07 - val_mae: 3.0706e-04\n",
            "Epoch 96/100\n",
            "5235/5235 [==============================] - 12s 2ms/step - loss: 2.6424e-04 - mae: 0.0060 - val_loss: 1.0049e-05 - val_mae: 0.0019\n",
            "Epoch 97/100\n",
            "5235/5235 [==============================] - 12s 2ms/step - loss: 3.0744e-04 - mae: 0.0065 - val_loss: 9.1529e-05 - val_mae: 0.0083\n",
            "Epoch 98/100\n",
            "5235/5235 [==============================] - 11s 2ms/step - loss: 3.0157e-04 - mae: 0.0062 - val_loss: 6.1728e-09 - val_mae: 6.6418e-05\n",
            "Epoch 99/100\n",
            "5235/5235 [==============================] - 13s 2ms/step - loss: 2.2462e-04 - mae: 0.0058 - val_loss: 5.2747e-07 - val_mae: 6.1687e-04\n",
            "Epoch 100/100\n",
            "5235/5235 [==============================] - 12s 2ms/step - loss: 4.3045e-04 - mae: 0.0069 - val_loss: 1.6154e-08 - val_mae: 1.0009e-04\n"
          ]
        }
      ],
      "source": [
        "history = model.fit(X_train, y_train, epochs=100, batch_size=32, validation_split=0.2)\n"
      ]
    },
    {
      "cell_type": "code",
      "execution_count": null,
      "metadata": {
        "colab": {
          "base_uri": "https://localhost:8080/"
        },
        "id": "Zn_MLNhOKd0m",
        "outputId": "8cc8af22-4267-44ab-d73f-04f7f0182861"
      },
      "outputs": [
        {
          "name": "stdout",
          "output_type": "stream",
          "text": [
            "Test loss: 1.4471544318439555e-07\n",
            "Test MAE: 0.00010263305739499629\n"
          ]
        }
      ],
      "source": [
        "score = model.evaluate(X_test, y_test, verbose=0)\n",
        "print('Test loss:', score[0])\n",
        "print('Test MAE:', score[1])\n"
      ]
    },
    {
      "cell_type": "code",
      "execution_count": null,
      "metadata": {
        "colab": {
          "base_uri": "https://localhost:8080/"
        },
        "id": "7d4lGiNqKgaF",
        "outputId": "000e29ee-2147-47d5-e1c5-c5ed51178d11"
      },
      "outputs": [
        {
          "name": "stdout",
          "output_type": "stream",
          "text": [
            "1/1 [==============================] - 0s 186ms/step\n",
            "Previsão das notas: [[503.0047]]\n"
          ]
        }
      ],
      "source": [
        "notas = model.predict([[0, 0, 0, 0]])\n",
        "print('Previsão das notas:', notas)\n"
      ]
    },
    {
      "cell_type": "code",
      "execution_count": null,
      "metadata": {
        "colab": {
          "base_uri": "https://localhost:8080/",
          "height": 397
        },
        "id": "GoDowVbJPl_0",
        "outputId": "4fe41884-b15c-4db5-bbe3-b23b22a07de0"
      },
      "outputs": [
        {
          "ename": "ValueError",
          "evalue": "ignored",
          "output_type": "error",
          "traceback": [
            "\u001b[0;31m---------------------------------------------------------------------------\u001b[0m",
            "\u001b[0;31mValueError\u001b[0m                                Traceback (most recent call last)",
            "\u001b[0;32m<ipython-input-11-ee91fedd70cd>\u001b[0m in \u001b[0;36m<cell line: 15>\u001b[0;34m()\u001b[0m\n\u001b[1;32m     13\u001b[0m \u001b[0;31m# Treina o modelo de regressão linear\u001b[0m\u001b[0;34m\u001b[0m\u001b[0;34m\u001b[0m\u001b[0m\n\u001b[1;32m     14\u001b[0m \u001b[0mmodelo\u001b[0m \u001b[0;34m=\u001b[0m \u001b[0mLinearRegression\u001b[0m\u001b[0;34m(\u001b[0m\u001b[0;34m)\u001b[0m\u001b[0;34m\u001b[0m\u001b[0;34m\u001b[0m\u001b[0m\n\u001b[0;32m---> 15\u001b[0;31m \u001b[0mmodelo\u001b[0m\u001b[0;34m.\u001b[0m\u001b[0mfit\u001b[0m\u001b[0;34m(\u001b[0m\u001b[0mX\u001b[0m\u001b[0;34m,\u001b[0m \u001b[0my\u001b[0m\u001b[0;34m)\u001b[0m\u001b[0;34m\u001b[0m\u001b[0;34m\u001b[0m\u001b[0m\n\u001b[0m\u001b[1;32m     16\u001b[0m \u001b[0;34m\u001b[0m\u001b[0m\n\u001b[1;32m     17\u001b[0m \u001b[0;31m# Cria um array com os valores das notas previstas\u001b[0m\u001b[0;34m\u001b[0m\u001b[0;34m\u001b[0m\u001b[0m\n",
            "\u001b[0;32m/usr/local/lib/python3.9/dist-packages/sklearn/linear_model/_base.py\u001b[0m in \u001b[0;36mfit\u001b[0;34m(self, X, y, sample_weight)\u001b[0m\n\u001b[1;32m    646\u001b[0m         \u001b[0maccept_sparse\u001b[0m \u001b[0;34m=\u001b[0m \u001b[0;32mFalse\u001b[0m \u001b[0;32mif\u001b[0m \u001b[0mself\u001b[0m\u001b[0;34m.\u001b[0m\u001b[0mpositive\u001b[0m \u001b[0;32melse\u001b[0m \u001b[0;34m[\u001b[0m\u001b[0;34m\"csr\"\u001b[0m\u001b[0;34m,\u001b[0m \u001b[0;34m\"csc\"\u001b[0m\u001b[0;34m,\u001b[0m \u001b[0;34m\"coo\"\u001b[0m\u001b[0;34m]\u001b[0m\u001b[0;34m\u001b[0m\u001b[0;34m\u001b[0m\u001b[0m\n\u001b[1;32m    647\u001b[0m \u001b[0;34m\u001b[0m\u001b[0m\n\u001b[0;32m--> 648\u001b[0;31m         X, y = self._validate_data(\n\u001b[0m\u001b[1;32m    649\u001b[0m             \u001b[0mX\u001b[0m\u001b[0;34m,\u001b[0m \u001b[0my\u001b[0m\u001b[0;34m,\u001b[0m \u001b[0maccept_sparse\u001b[0m\u001b[0;34m=\u001b[0m\u001b[0maccept_sparse\u001b[0m\u001b[0;34m,\u001b[0m \u001b[0my_numeric\u001b[0m\u001b[0;34m=\u001b[0m\u001b[0;32mTrue\u001b[0m\u001b[0;34m,\u001b[0m \u001b[0mmulti_output\u001b[0m\u001b[0;34m=\u001b[0m\u001b[0;32mTrue\u001b[0m\u001b[0;34m\u001b[0m\u001b[0;34m\u001b[0m\u001b[0m\n\u001b[1;32m    650\u001b[0m         )\n",
            "\u001b[0;32m/usr/local/lib/python3.9/dist-packages/sklearn/base.py\u001b[0m in \u001b[0;36m_validate_data\u001b[0;34m(self, X, y, reset, validate_separately, **check_params)\u001b[0m\n\u001b[1;32m    582\u001b[0m                 \u001b[0my\u001b[0m \u001b[0;34m=\u001b[0m \u001b[0mcheck_array\u001b[0m\u001b[0;34m(\u001b[0m\u001b[0my\u001b[0m\u001b[0;34m,\u001b[0m \u001b[0minput_name\u001b[0m\u001b[0;34m=\u001b[0m\u001b[0;34m\"y\"\u001b[0m\u001b[0;34m,\u001b[0m \u001b[0;34m**\u001b[0m\u001b[0mcheck_y_params\u001b[0m\u001b[0;34m)\u001b[0m\u001b[0;34m\u001b[0m\u001b[0;34m\u001b[0m\u001b[0m\n\u001b[1;32m    583\u001b[0m             \u001b[0;32melse\u001b[0m\u001b[0;34m:\u001b[0m\u001b[0;34m\u001b[0m\u001b[0;34m\u001b[0m\u001b[0m\n\u001b[0;32m--> 584\u001b[0;31m                 \u001b[0mX\u001b[0m\u001b[0;34m,\u001b[0m \u001b[0my\u001b[0m \u001b[0;34m=\u001b[0m \u001b[0mcheck_X_y\u001b[0m\u001b[0;34m(\u001b[0m\u001b[0mX\u001b[0m\u001b[0;34m,\u001b[0m \u001b[0my\u001b[0m\u001b[0;34m,\u001b[0m \u001b[0;34m**\u001b[0m\u001b[0mcheck_params\u001b[0m\u001b[0;34m)\u001b[0m\u001b[0;34m\u001b[0m\u001b[0;34m\u001b[0m\u001b[0m\n\u001b[0m\u001b[1;32m    585\u001b[0m             \u001b[0mout\u001b[0m \u001b[0;34m=\u001b[0m \u001b[0mX\u001b[0m\u001b[0;34m,\u001b[0m \u001b[0my\u001b[0m\u001b[0;34m\u001b[0m\u001b[0;34m\u001b[0m\u001b[0m\n\u001b[1;32m    586\u001b[0m \u001b[0;34m\u001b[0m\u001b[0m\n",
            "\u001b[0;32m/usr/local/lib/python3.9/dist-packages/sklearn/utils/validation.py\u001b[0m in \u001b[0;36mcheck_X_y\u001b[0;34m(X, y, accept_sparse, accept_large_sparse, dtype, order, copy, force_all_finite, ensure_2d, allow_nd, multi_output, ensure_min_samples, ensure_min_features, y_numeric, estimator)\u001b[0m\n\u001b[1;32m   1120\u001b[0m     )\n\u001b[1;32m   1121\u001b[0m \u001b[0;34m\u001b[0m\u001b[0m\n\u001b[0;32m-> 1122\u001b[0;31m     \u001b[0my\u001b[0m \u001b[0;34m=\u001b[0m \u001b[0m_check_y\u001b[0m\u001b[0;34m(\u001b[0m\u001b[0my\u001b[0m\u001b[0;34m,\u001b[0m \u001b[0mmulti_output\u001b[0m\u001b[0;34m=\u001b[0m\u001b[0mmulti_output\u001b[0m\u001b[0;34m,\u001b[0m \u001b[0my_numeric\u001b[0m\u001b[0;34m=\u001b[0m\u001b[0my_numeric\u001b[0m\u001b[0;34m,\u001b[0m \u001b[0mestimator\u001b[0m\u001b[0;34m=\u001b[0m\u001b[0mestimator\u001b[0m\u001b[0;34m)\u001b[0m\u001b[0;34m\u001b[0m\u001b[0;34m\u001b[0m\u001b[0m\n\u001b[0m\u001b[1;32m   1123\u001b[0m \u001b[0;34m\u001b[0m\u001b[0m\n\u001b[1;32m   1124\u001b[0m     \u001b[0mcheck_consistent_length\u001b[0m\u001b[0;34m(\u001b[0m\u001b[0mX\u001b[0m\u001b[0;34m,\u001b[0m \u001b[0my\u001b[0m\u001b[0;34m)\u001b[0m\u001b[0;34m\u001b[0m\u001b[0;34m\u001b[0m\u001b[0m\n",
            "\u001b[0;32m/usr/local/lib/python3.9/dist-packages/sklearn/utils/validation.py\u001b[0m in \u001b[0;36m_check_y\u001b[0;34m(y, multi_output, y_numeric, estimator)\u001b[0m\n\u001b[1;32m   1130\u001b[0m     \u001b[0;34m\"\"\"Isolated part of check_X_y dedicated to y validation\"\"\"\u001b[0m\u001b[0;34m\u001b[0m\u001b[0;34m\u001b[0m\u001b[0m\n\u001b[1;32m   1131\u001b[0m     \u001b[0;32mif\u001b[0m \u001b[0mmulti_output\u001b[0m\u001b[0;34m:\u001b[0m\u001b[0;34m\u001b[0m\u001b[0;34m\u001b[0m\u001b[0m\n\u001b[0;32m-> 1132\u001b[0;31m         y = check_array(\n\u001b[0m\u001b[1;32m   1133\u001b[0m             \u001b[0my\u001b[0m\u001b[0;34m,\u001b[0m\u001b[0;34m\u001b[0m\u001b[0;34m\u001b[0m\u001b[0m\n\u001b[1;32m   1134\u001b[0m             \u001b[0maccept_sparse\u001b[0m\u001b[0;34m=\u001b[0m\u001b[0;34m\"csr\"\u001b[0m\u001b[0;34m,\u001b[0m\u001b[0;34m\u001b[0m\u001b[0;34m\u001b[0m\u001b[0m\n",
            "\u001b[0;32m/usr/local/lib/python3.9/dist-packages/sklearn/utils/validation.py\u001b[0m in \u001b[0;36mcheck_array\u001b[0;34m(array, accept_sparse, accept_large_sparse, dtype, order, copy, force_all_finite, ensure_2d, allow_nd, ensure_min_samples, ensure_min_features, estimator, input_name)\u001b[0m\n\u001b[1;32m    919\u001b[0m \u001b[0;34m\u001b[0m\u001b[0m\n\u001b[1;32m    920\u001b[0m         \u001b[0;32mif\u001b[0m \u001b[0mforce_all_finite\u001b[0m\u001b[0;34m:\u001b[0m\u001b[0;34m\u001b[0m\u001b[0;34m\u001b[0m\u001b[0m\n\u001b[0;32m--> 921\u001b[0;31m             _assert_all_finite(\n\u001b[0m\u001b[1;32m    922\u001b[0m                 \u001b[0marray\u001b[0m\u001b[0;34m,\u001b[0m\u001b[0;34m\u001b[0m\u001b[0;34m\u001b[0m\u001b[0m\n\u001b[1;32m    923\u001b[0m                 \u001b[0minput_name\u001b[0m\u001b[0;34m=\u001b[0m\u001b[0minput_name\u001b[0m\u001b[0;34m,\u001b[0m\u001b[0;34m\u001b[0m\u001b[0;34m\u001b[0m\u001b[0m\n",
            "\u001b[0;32m/usr/local/lib/python3.9/dist-packages/sklearn/utils/validation.py\u001b[0m in \u001b[0;36m_assert_all_finite\u001b[0;34m(X, allow_nan, msg_dtype, estimator_name, input_name)\u001b[0m\n\u001b[1;32m    109\u001b[0m     \u001b[0;32mif\u001b[0m \u001b[0mX\u001b[0m\u001b[0;34m.\u001b[0m\u001b[0mdtype\u001b[0m \u001b[0;34m==\u001b[0m \u001b[0mnp\u001b[0m\u001b[0;34m.\u001b[0m\u001b[0mdtype\u001b[0m\u001b[0;34m(\u001b[0m\u001b[0;34m\"object\"\u001b[0m\u001b[0;34m)\u001b[0m \u001b[0;32mand\u001b[0m \u001b[0;32mnot\u001b[0m \u001b[0mallow_nan\u001b[0m\u001b[0;34m:\u001b[0m\u001b[0;34m\u001b[0m\u001b[0;34m\u001b[0m\u001b[0m\n\u001b[1;32m    110\u001b[0m         \u001b[0;32mif\u001b[0m \u001b[0m_object_dtype_isnan\u001b[0m\u001b[0;34m(\u001b[0m\u001b[0mX\u001b[0m\u001b[0;34m)\u001b[0m\u001b[0;34m.\u001b[0m\u001b[0many\u001b[0m\u001b[0;34m(\u001b[0m\u001b[0;34m)\u001b[0m\u001b[0;34m:\u001b[0m\u001b[0;34m\u001b[0m\u001b[0;34m\u001b[0m\u001b[0m\n\u001b[0;32m--> 111\u001b[0;31m             \u001b[0;32mraise\u001b[0m \u001b[0mValueError\u001b[0m\u001b[0;34m(\u001b[0m\u001b[0;34m\"Input contains NaN\"\u001b[0m\u001b[0;34m)\u001b[0m\u001b[0;34m\u001b[0m\u001b[0;34m\u001b[0m\u001b[0m\n\u001b[0m\u001b[1;32m    112\u001b[0m \u001b[0;34m\u001b[0m\u001b[0m\n\u001b[1;32m    113\u001b[0m     \u001b[0;31m# We need only consider float arrays, hence can early return for all else.\u001b[0m\u001b[0;34m\u001b[0m\u001b[0;34m\u001b[0m\u001b[0m\n",
            "\u001b[0;31mValueError\u001b[0m: Input contains NaN"
          ]
        }
      ],
      "source": [
        "import matplotlib.pyplot as plt\n",
        "\n",
        "# Concatena os três dataframes em um único dataframe\n",
        "educacao = pd.concat([educacao_2011, educacao_2018, educacao_2020])\n",
        "\n",
        "# Seleciona apenas as linhas com mulheres indígenas e pretas filhas de pais formados\n",
        "educacao_filtrada = educacao.loc[(educacao['TP_SEXO'] == 'F') & (educacao['TP_COR_RACA'].isin(['preto', 'indigena'])) & (educacao['Q002'] == 'G')]\n",
        "\n",
        "# Separa as features das targets\n",
        "X = educacao_filtrada[['NU_NOTA_MT', 'NU_NOTA_LC', 'NU_NOTA_CH', 'NU_NOTA_CN']]\n",
        "y = educacao_filtrada['Q001']\n",
        "\n",
        "# Treina o modelo de regressão linear\n",
        "modelo = LinearRegression()\n",
        "modelo.fit(X, y)\n",
        "\n",
        "# Cria um array com os valores das notas previstas\n",
        "notas_previstas = modelo.predict(X)\n",
        "\n",
        "# Adiciona uma nova coluna ao dataframe com as notas previstas\n",
        "educacao_filtrada['Notas Previstas'] = notas_previstas\n",
        "\n",
        "# Plota um boxplot com as notas previstas por ano\n",
        "educacao_filtrada.boxplot(column='Notas Previstas', by='NU_ANO', figsize=(10, 6))\n",
        "plt.title('Notas Previstas por Ano')\n",
        "plt.ylabel('Notas Previstas')\n",
        "plt.xlabel('Ano')\n",
        "plt.show()\n",
        "\n",
        "# Plota um gráfico de barras com a média das notas previstas por ano\n",
        "educacao_filtrada.groupby('NU_ANO')['Notas Previstas'].mean().plot(kind='bar', figsize=(10, 6))\n",
        "plt.title('Média das Notas Previstas por Ano')\n",
        "plt.ylabel('Média das Notas Previstas')\n",
        "plt.xlabel('Ano')\n",
        "plt.show()\n"
      ]
    },
    {
      "cell_type": "code",
      "execution_count": null,
      "metadata": {
        "colab": {
          "base_uri": "https://localhost:8080/"
        },
        "id": "FnSX06E9Th5F",
        "outputId": "44ff0366-57a2-452a-c550-db4d80c1f5c0"
      },
      "outputs": [
        {
          "name": "stderr",
          "output_type": "stream",
          "text": [
            "<ipython-input-8-9e7d56d49e24>:11: SettingWithCopyWarning: \n",
            "A value is trying to be set on a copy of a slice from a DataFrame.\n",
            "Try using .loc[row_indexer,col_indexer] = value instead\n",
            "\n",
            "See the caveats in the documentation: https://pandas.pydata.org/pandas-docs/stable/user_guide/indexing.html#returning-a-view-versus-a-copy\n",
            "  educacao_filtrada['TP_COR_RACA'] = le.fit_transform(educacao_filtrada['TP_COR_RACA'])\n",
            "<ipython-input-8-9e7d56d49e24>:12: SettingWithCopyWarning: \n",
            "A value is trying to be set on a copy of a slice from a DataFrame.\n",
            "Try using .loc[row_indexer,col_indexer] = value instead\n",
            "\n",
            "See the caveats in the documentation: https://pandas.pydata.org/pandas-docs/stable/user_guide/indexing.html#returning-a-view-versus-a-copy\n",
            "  educacao_filtrada['Q002'] = le.fit_transform(educacao_filtrada['Q002'])\n"
          ]
        },
        {
          "name": "stdout",
          "output_type": "stream",
          "text": [
            "Acurácia do modelo: 0.55\n"
          ]
        }
      ],
      "source": [
        "from sklearn.neural_network import MLPRegressor\n",
        "from sklearn.preprocessing import LabelEncoder\n",
        "from sklearn.model_selection import train_test_split\n",
        "\n",
        "# Filtra as linhas de mulheres pretas e indígenas filhas de mulheres formadas\n",
        "educacao_filtrada = educacao_2020[(educacao_2020['TP_COR_RACA'].isin(['preto', 'indigena'])) & (educacao_2020['Q002'].isin(['G', 'H']))]\n",
        "notas_mt = educacao_filtrada['NU_NOTA_MT']\n",
        "\n",
        "# Transforma as variáveis categóricas em numéricas\n",
        "le = LabelEncoder()\n",
        "educacao_filtrada['TP_COR_RACA'] = le.fit_transform(educacao_filtrada['TP_COR_RACA'])\n",
        "educacao_filtrada['Q002'] = le.fit_transform(educacao_filtrada['Q002'])\n",
        "\n",
        "# Separa os dados em treino e teste\n",
        "X = educacao_filtrada[['NU_NOTA_LC', 'NU_NOTA_CH', 'NU_NOTA_CN', 'TP_COR_RACA', 'Q002']]\n",
        "y = notas_mt\n",
        "X_train, X_test, y_train, y_test = train_test_split(X, y, test_size=0.2, random_state=42)\n",
        "\n",
        "# Cria a rede neural\n",
        "mlp = MLPRegressor(hidden_layer_sizes=(10,), max_iter=1000, activation='relu', solver='adam', random_state=42)\n",
        "\n",
        "# Treina a rede neural\n",
        "mlp.fit(X_train, y_train)\n",
        "\n",
        "# Avalia o modelo\n",
        "score = mlp.score(X_test, y_test)\n",
        "print(f\"Acurácia do modelo: {score:.2f}\")\n",
        "\n",
        "# Faz a previsão para daqui a 5 anos\n",
        "notas_previstas = mlp.predict(X_test)\n",
        "notas_previstas_daqui_5_anos = mlp.predict(X_test * 1.05)\n"
      ]
    },
    {
      "cell_type": "code",
      "execution_count": null,
      "metadata": {
        "colab": {
          "base_uri": "https://localhost:8080/",
          "height": 235
        },
        "id": "BVuhQr__U5Du",
        "outputId": "5db94351-e7dd-45d9-f646-394f8ee11803"
      },
      "outputs": [
        {
          "ename": "NameError",
          "evalue": "ignored",
          "output_type": "error",
          "traceback": [
            "\u001b[0;31m---------------------------------------------------------------------------\u001b[0m",
            "\u001b[0;31mNameError\u001b[0m                                 Traceback (most recent call last)",
            "\u001b[0;32m<ipython-input-9-9ebb3c471131>\u001b[0m in \u001b[0;36m<cell line: 9>\u001b[0;34m()\u001b[0m\n\u001b[1;32m      7\u001b[0m \u001b[0;34m\u001b[0m\u001b[0m\n\u001b[1;32m      8\u001b[0m \u001b[0;31m# Faz as previsões para os novos dados\u001b[0m\u001b[0;34m\u001b[0m\u001b[0;34m\u001b[0m\u001b[0m\n\u001b[0;32m----> 9\u001b[0;31m \u001b[0mprevisoes\u001b[0m \u001b[0;34m=\u001b[0m \u001b[0mmodelo\u001b[0m\u001b[0;34m.\u001b[0m\u001b[0mpredict\u001b[0m\u001b[0;34m(\u001b[0m\u001b[0mnovos_dados\u001b[0m\u001b[0;34m)\u001b[0m\u001b[0;34m\u001b[0m\u001b[0;34m\u001b[0m\u001b[0m\n\u001b[0m\u001b[1;32m     10\u001b[0m \u001b[0;34m\u001b[0m\u001b[0m\n\u001b[1;32m     11\u001b[0m \u001b[0;31m# Exibe as previsões\u001b[0m\u001b[0;34m\u001b[0m\u001b[0;34m\u001b[0m\u001b[0m\n",
            "\u001b[0;31mNameError\u001b[0m: name 'modelo' is not defined"
          ]
        }
      ],
      "source": [
        "# Cria um novo DataFrame com as informações dos novos dados\n",
        "novos_dados = pd.DataFrame({\n",
        "    'TP_SEXO': ['F']*100,  # 100 mulheres\n",
        "    'TP_COR_RACA': ['preto']*50 + ['indigena']*50,  # 50 mulheres pretas e 50 mulheres indígenas\n",
        "    'Q002': ['E']*100  # 100 mulheres filhas de mães formadas\n",
        "})\n",
        "\n",
        "# Faz as previsões para os novos dados\n",
        "previsoes = modelo.predict(novos_dados)\n",
        "\n",
        "# Exibe as previsões\n",
        "print(previsoes)\n"
      ]
    },
    {
      "cell_type": "code",
      "execution_count": null,
      "metadata": {
        "colab": {
          "base_uri": "https://localhost:8080/",
          "height": 252
        },
        "id": "EQ6ZSGRyXmWV",
        "outputId": "598d2bce-0e2f-4193-82d6-d6926a3a3dd8"
      },
      "outputs": [
        {
          "ename": "NameError",
          "evalue": "ignored",
          "output_type": "error",
          "traceback": [
            "\u001b[0;31m---------------------------------------------------------------------------\u001b[0m",
            "\u001b[0;31mNameError\u001b[0m                                 Traceback (most recent call last)",
            "\u001b[0;32m<ipython-input-11-518968f9f9bd>\u001b[0m in \u001b[0;36m<cell line: 12>\u001b[0;34m()\u001b[0m\n\u001b[1;32m     10\u001b[0m \u001b[0;34m\u001b[0m\u001b[0m\n\u001b[1;32m     11\u001b[0m \u001b[0;31m# Combina os três dataframes\u001b[0m\u001b[0;34m\u001b[0m\u001b[0;34m\u001b[0m\u001b[0m\n\u001b[0;32m---> 12\u001b[0;31m \u001b[0meducacao\u001b[0m \u001b[0;34m=\u001b[0m \u001b[0mpd\u001b[0m\u001b[0;34m.\u001b[0m\u001b[0mconcat\u001b[0m\u001b[0;34m(\u001b[0m\u001b[0;34m[\u001b[0m\u001b[0meducacao_2020\u001b[0m\u001b[0;34m,\u001b[0m \u001b[0meducacao_2011\u001b[0m\u001b[0;34m,\u001b[0m \u001b[0meducacao_2018\u001b[0m\u001b[0;34m]\u001b[0m\u001b[0;34m,\u001b[0m \u001b[0mignore_index\u001b[0m\u001b[0;34m=\u001b[0m\u001b[0;32mTrue\u001b[0m\u001b[0;34m)\u001b[0m\u001b[0;34m\u001b[0m\u001b[0;34m\u001b[0m\u001b[0m\n\u001b[0m\u001b[1;32m     13\u001b[0m \u001b[0;34m\u001b[0m\u001b[0m\n\u001b[1;32m     14\u001b[0m \u001b[0;32mdel\u001b[0m \u001b[0meducacao\u001b[0m\u001b[0;34m\u001b[0m\u001b[0;34m\u001b[0m\u001b[0m\n",
            "\u001b[0;31mNameError\u001b[0m: name 'educacao_2020' is not defined"
          ]
        }
      ],
      "source": [
        "from keras.models import Sequential\n",
        "from keras.layers import Dense\n",
        "from sklearn.preprocessing import LabelEncoder, OneHotEncoder\n",
        "from sklearn.compose import ColumnTransformer\n",
        "from sklearn.model_selection import train_test_split\n",
        "from sklearn.preprocessing import StandardScaler\n",
        "import pandas as pd\n",
        "#\n",
        "\n",
        "\n",
        "# Combina os três dataframes\n",
        "educacao = pd.concat([educacao_2020, educacao_2011, educacao_2018], ignore_index=True)\n",
        "\n",
        "del educacao\n",
        "\n",
        "# Transforma as variáveis categóricas em numéricas\n",
        "encoder = LabelEncoder()\n",
        "educacao['TP_COR_RACA'] = encoder.fit_transform(educacao['TP_COR_RACA'])\n",
        "educacao['Q001'] = encoder.fit_transform(educacao['Q001'])\n",
        "educacao['Q002'] = encoder.fit_transform(educacao['Q002'])\n",
        "\n",
        "# Divide os dados em variáveis independentes e dependentes\n",
        "X = educacao.iloc[:, 1:].values\n",
        "y = educacao.iloc[:, 0].values\n",
        "\n",
        "# Codifica as variáveis categóricas\n",
        "ct = ColumnTransformer(transformers=[('encoder', OneHotEncoder(), [3, 4, 5])], remainder='passthrough')\n",
        "X = ct.fit_transform(X)\n",
        "\n",
        "# Divide os dados em treino e teste\n",
        "X_train, X_test, y_train, y_test = train_test_split(X, y, test_size=0.2, random_state=0)\n",
        "\n",
        "# Normaliza os dados\n",
        "sc = StandardScaler()\n",
        "X_train = sc.fit_transform(X_train)\n",
        "X_test = sc.transform(X_test)\n",
        "\n",
        "# Define a rede neural\n",
        "classifier = Sequential()\n",
        "classifier.add(Dense(units=2, kernel_initializer='uniform', activation='relu', input_dim=16))\n",
        "classifier.add(Dense(units=2, kernel_initializer='uniform', activation='relu'))\n",
        "classifier.add(Dense(units=2, kernel_initializer='uniform'))\n",
        "\n",
        "# Compila a rede neural\n",
        "classifier.compile(optimizer='adam', loss='mean_squared_error')\n",
        "\n",
        "# Treina a rede neural\n",
        "classifier.fit(X_train, y_train, batch_size=10, epochs=10)\n",
        "\n",
        "# Faz as previsões\n",
        "y_pred = classifier.predict(X_test)\n",
        "\n",
        "# Avalia o desempenho do modelo\n",
        "from sklearn.metrics import r2_score\n",
        "r2_score(y_test, y_pred)\n"
      ]
    },
    {
      "cell_type": "code",
      "execution_count": null,
      "metadata": {
        "colab": {
          "base_uri": "https://localhost:8080/",
          "height": 165
        },
        "id": "xF9En94iNWrg",
        "outputId": "e7910aa1-88a0-4f83-da33-8f3410f418ac"
      },
      "outputs": [
        {
          "ename": "NameError",
          "evalue": "ignored",
          "output_type": "error",
          "traceback": [
            "\u001b[0;31m---------------------------------------------------------------------------\u001b[0m",
            "\u001b[0;31mNameError\u001b[0m                                 Traceback (most recent call last)",
            "\u001b[0;32m<ipython-input-12-4d77dfe2ccc7>\u001b[0m in \u001b[0;36m<cell line: 1>\u001b[0;34m()\u001b[0m\n\u001b[0;32m----> 1\u001b[0;31m \u001b[0meducacao_2020\u001b[0m\u001b[0;34m.\u001b[0m\u001b[0mhead\u001b[0m\u001b[0;34m(\u001b[0m\u001b[0;34m)\u001b[0m\u001b[0;34m\u001b[0m\u001b[0;34m\u001b[0m\u001b[0m\n\u001b[0m",
            "\u001b[0;31mNameError\u001b[0m: name 'educacao_2020' is not defined"
          ]
        }
      ],
      "source": [
        "educacao_2020.head()"
      ]
    },
    {
      "cell_type": "code",
      "execution_count": null,
      "metadata": {
        "id": "jBBj5F21NZbs"
      },
      "outputs": [],
      "source": []
    }
  ],
  "metadata": {
    "colab": {
      "provenance": [],
      "authorship_tag": "ABX9TyMr1JzDtU+bcpa9AD7oA11u",
      "include_colab_link": true
    },
    "kernelspec": {
      "display_name": "Python 3",
      "name": "python3"
    },
    "language_info": {
      "name": "python"
    }
  },
  "nbformat": 4,
  "nbformat_minor": 0
}